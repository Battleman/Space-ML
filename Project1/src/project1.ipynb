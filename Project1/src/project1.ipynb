{
 "cells": [
  {
   "cell_type": "code",
   "execution_count": 1,
   "metadata": {},
   "outputs": [],
   "source": [
    "# Useful starting lines\n",
    "%matplotlib inline\n",
    "import numpy as np\n",
    "import matplotlib.pyplot as plt\n",
    "%load_ext autoreload\n",
    "%autoreload 2"
   ]
  },
  {
   "cell_type": "markdown",
   "metadata": {},
   "source": [
    "## Load the training data into feature matrix, class labels, and event ids:"
   ]
  },
  {
   "cell_type": "code",
   "execution_count": 3,
   "metadata": {
    "jupyter": {
     "outputs_hidden": false
    }
   },
   "outputs": [],
   "source": [
    "from proj1_helpers import *\n",
    "DATA_TRAIN_PATH = '../data/train.csv' # TODO: download train data and supply path here \n",
    "y, tX, ids = load_csv_data(DATA_TRAIN_PATH)"
   ]
  },
  {
   "cell_type": "markdown",
   "metadata": {},
   "source": [
    "## Do your thing crazy machine learning thing here :) ..."
   ]
  },
  {
   "cell_type": "code",
   "execution_count": 4,
   "metadata": {},
   "outputs": [],
   "source": [
    "def least_squares_GD(y, tx, initial_w, max_iters, gamma):\n",
    "    gram = tx.T.dot(tx)\n",
    "    w_opt = np.linalg.inv(gram) * tx.T.dot(y)\n",
    "    return w_opt"
   ]
  },
  {
   "cell_type": "code",
   "execution_count": 178,
   "metadata": {},
   "outputs": [],
   "source": [
    "error_value=-999\n",
    "def most_common(x):\n",
    "    temp=np.unique(x[x!=error_value], return_counts=True)\n",
    "    return temp[0][temp[1].argmax()]\n",
    "\n",
    "def outlier_cleanup(x):\n",
    "    com_vector=np.apply_along_axis(most_common, 0, x)\n",
    "    com_matrix=np.repeat(com_vector[np.newaxis,:],np.array([x.shape[0]]),axis=0)\n",
    "    return np.where(x!=error_value,x,com_matrix)\n",
    "\n",
    "def pipeline(y, x):\n",
    "    \n",
    "    #important indices obtained through data exploration\n",
    "    jet_ind=22\n",
    "    global_useless=np.array([15,18,20])\n",
    "    jet0_useless=jet_ind\n",
    "    jet1_useless=np.array([25,jet_ind])\n",
    "    jet23_useless=np.array([25,28,jet_ind])\n",
    "    \n",
    "    #removing all useless parameters\n",
    "    x_clean=np.delete(x,global_useless,1)\n",
    "    \n",
    "    #splitting the samples in function of the value of PRI_jet_num \n",
    "    #then removing now useless parameters for each split\n",
    "    x_jet0=np.delete(x_clean[x_clean[:,jet_ind]==0],jet0_useless-len(global_useless),1)\n",
    "    x_jet1=np.delete(x_clean[x_clean[:,jet_ind]==1],jet1_useless-len(global_useless),1)\n",
    "    x_jet23=np.delete(x_clean[x_clean[:,jet_ind]>1],jet23_useless-len(global_useless),1)\n",
    "    \n",
    "    #replacing the outliers by the most common value of their column\n",
    "    x_jet0=outlier_cleanup(x_jet0)\n",
    "    x_jet1=outlier_cleanup(x_jet1)\n",
    "    x_jet23=outlier_cleanup(x_jet23)\n",
    "    \n",
    "    #splitting the y values\n",
    "    y_jet0=y[x_clean[:,jet_ind]==0]\n",
    "    y_jet1=y[x_clean[:,jet_ind]==1]\n",
    "    y_jet23=y[x_clean[:,jet_ind]>1]\n",
    "    \n",
    "    return np.array([[y_jet0,x_jet0],[y_jet1,x_jet1],[y_jet23,x_jet23]])"
   ]
  },
  {
   "cell_type": "markdown",
   "metadata": {},
   "source": [
    "## Generate predictions and save ouput in csv format for submission:"
   ]
  },
  {
   "cell_type": "code",
   "execution_count": 5,
   "metadata": {
    "jupyter": {
     "outputs_hidden": false
    }
   },
   "outputs": [],
   "source": [
    "DATA_TEST_PATH = '../data/test.csv' # TODO: download test data and supply path here \n",
    "_, tX_test, ids_test = load_csv_data(DATA_TEST_PATH)"
   ]
  },
  {
   "cell_type": "code",
   "execution_count": 6,
   "metadata": {
    "jupyter": {
     "outputs_hidden": false
    }
   },
   "outputs": [
    {
     "ename": "NameError",
     "evalue": "name 'weights' is not defined",
     "output_type": "error",
     "traceback": [
      "\u001b[1;31m---------------------------------------------------------------------------\u001b[0m",
      "\u001b[1;31mNameError\u001b[0m                                 Traceback (most recent call last)",
      "\u001b[1;32m<ipython-input-6-73cb1fc4d182>\u001b[0m in \u001b[0;36m<module>\u001b[1;34m\u001b[0m\n\u001b[0;32m      1\u001b[0m \u001b[0mOUTPUT_PATH\u001b[0m \u001b[1;33m=\u001b[0m \u001b[1;34m'../predictions.csv'\u001b[0m \u001b[1;31m# TODO: fill in desired name of output file for submission\u001b[0m\u001b[1;33m\u001b[0m\u001b[1;33m\u001b[0m\u001b[0m\n\u001b[1;32m----> 2\u001b[1;33m \u001b[0my_pred\u001b[0m \u001b[1;33m=\u001b[0m \u001b[0mpredict_labels\u001b[0m\u001b[1;33m(\u001b[0m\u001b[0mweights\u001b[0m\u001b[1;33m,\u001b[0m \u001b[0mtX_test\u001b[0m\u001b[1;33m)\u001b[0m\u001b[1;33m\u001b[0m\u001b[1;33m\u001b[0m\u001b[0m\n\u001b[0m\u001b[0;32m      3\u001b[0m \u001b[0mcreate_csv_submission\u001b[0m\u001b[1;33m(\u001b[0m\u001b[0mids_test\u001b[0m\u001b[1;33m,\u001b[0m \u001b[0my_pred\u001b[0m\u001b[1;33m,\u001b[0m \u001b[0mOUTPUT_PATH\u001b[0m\u001b[1;33m)\u001b[0m\u001b[1;33m\u001b[0m\u001b[1;33m\u001b[0m\u001b[0m\n",
      "\u001b[1;31mNameError\u001b[0m: name 'weights' is not defined"
     ]
    }
   ],
   "source": [
    "OUTPUT_PATH = '../predictions.csv' # TODO: fill in desired name of output file for submission\n",
    "y_pred = predict_labels(weights, tX_test)\n",
    "create_csv_submission(ids_test, y_pred, OUTPUT_PATH)"
   ]
  }
 ],
 "metadata": {
  "anaconda-cloud": {},
  "kernelspec": {
   "display_name": "Python 3",
   "language": "python",
   "name": "python3"
  },
  "language_info": {
   "codemirror_mode": {
    "name": "ipython",
    "version": 3
   },
   "file_extension": ".py",
   "mimetype": "text/x-python",
   "name": "python",
   "nbconvert_exporter": "python",
   "pygments_lexer": "ipython3",
   "version": "3.7.1"
  }
 },
 "nbformat": 4,
 "nbformat_minor": 4
}
