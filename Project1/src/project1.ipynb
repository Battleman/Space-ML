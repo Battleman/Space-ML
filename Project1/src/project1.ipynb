{
 "cells": [
  {
   "cell_type": "code",
   "execution_count": 7,
   "metadata": {},
   "outputs": [
    {
     "name": "stdout",
     "output_type": "stream",
     "text": [
      "The autoreload extension is already loaded. To reload it, use:\n",
      "  %reload_ext autoreload\n"
     ]
    }
   ],
   "source": [
    "# Useful starting lines\n",
    "%matplotlib inline\n",
    "import numpy as np\n",
    "import matplotlib.pyplot as plt\n",
    "%load_ext autoreload\n",
    "%autoreload 2\n",
    "\n",
    "from preprocessing import preprocessing\n",
    "from features_engineering import augment\n",
    "from ml_methods import *\n",
    "from proj1_helpers import *\n",
    "import pickle as pkl"
   ]
  },
  {
   "cell_type": "markdown",
   "metadata": {},
   "source": [
    "## Load the training data into feature matrix, class labels, and event ids:"
   ]
  },
  {
   "cell_type": "code",
   "execution_count": 8,
   "metadata": {
    "jupyter": {
     "outputs_hidden": false
    }
   },
   "outputs": [],
   "source": [
    "DATA_TRAIN_PATH = '../data/train.csv' \n",
    "DATA_TEST_PATH = '../data/test.csv'\n",
    "y, tX_train, ids = load_csv_data(DATA_TRAIN_PATH)\n",
    "_, tX_test, ids_test = load_csv_data(DATA_TEST_PATH)"
   ]
  },
  {
   "cell_type": "code",
   "execution_count": 9,
   "metadata": {},
   "outputs": [],
   "source": [
    "(xs_train, masks_train) = preprocessing(tX_train)\n",
    "(xs_test, masks_test) = preprocessing(tX_test)\n",
    "y=y[:,np.newaxis]\n",
    "y_logistic=(y+1)/2"
   ]
  },
  {
   "cell_type": "code",
   "execution_count": 10,
   "metadata": {},
   "outputs": [],
   "source": [
    "pred_len=tX_test.shape[0]\n",
    "lq=lambda a,b,c,d,e,f:least_squares(a,b)\n",
    "lqgd=lambda a,b,c,d,e,f: least_squares_GD(a, b, d, e, f)\n",
    "lqsgd=lambda a,b,c,d,e,f: least_squares_SGD(a, b, d, e, f)\n",
    "r=lambda a,b,c,d,e,f: ridge_regression(a, b, c)\n",
    "lgd=lambda a,b,c,d,e,f: logistic_regression_GD(a,b,d,e,f)\n",
    "lsgd=lambda a,b,c,d,e,f: logistic_regression_SGD(a,b,d,e,f)\n",
    "rlgd=reg_logistic_regression_GD\n",
    "rlsgd=reg_logistic_regression_SGD"
   ]
  },
  {
   "cell_type": "code",
   "execution_count": null,
   "metadata": {},
   "outputs": [],
   "source": [
    "# Least Squares\n",
    "predictions(y, xs_train, xs_test, masks_train, masks_test, lq,pred_len,2, 0, 0, 0)"
   ]
  },
  {
   "cell_type": "code",
   "execution_count": null,
   "metadata": {},
   "outputs": [],
   "source": [
    "# Least Squares GD\n",
    "max_iters = 1000\n",
    "gamma = 10**-6\n",
    "predictions(y, xs_train, xs_test, masks_train, masks_test, lqgd,pred_len, 2, 0, max_iters, gamma)"
   ]
  },
  {
   "cell_type": "code",
   "execution_count": null,
   "metadata": {},
   "outputs": [],
   "source": [
    "# Least Squares SGD\n",
    "max_iters = 1000\n",
    "gamma = 10**-6\n",
    "predictions(y, xs_train, xs_test, masks_train, masks_test, lqsgd,pred_len, 2, 0, max_iters, gamma)"
   ]
  },
  {
   "cell_type": "code",
   "execution_count": null,
   "metadata": {},
   "outputs": [],
   "source": [
    "# Ridge Regression\n",
    "lambda_ = 0\n",
    "predictions(y, xs_train, xs_test, masks_train, masks_test, r,pred_len, 2, lambda_, 0, 0)"
   ]
  },
  {
   "cell_type": "code",
   "execution_count": null,
   "metadata": {},
   "outputs": [],
   "source": [
    "# Logistic Regression GD\n",
    "max_iters = 1000\n",
    "gamma = 10**-6\n",
    "reg_f=\n",
    "predictions(y, xs_train, xs_test, masks_train, masks_test, lgd,pred_len, 2, 0, max_iters, gamma, True)"
   ]
  },
  {
   "cell_type": "code",
   "execution_count": null,
   "metadata": {},
   "outputs": [],
   "source": [
    "# Logistic Regression SGD\n",
    "max_iters = 100000\n",
    "gamma = 10**-6\n",
    "predictions(y_logistic, xs_train, xs_test, masks_train, masks_test, lsgd,pred_len, 2, 0, max_iters, gamma, True)"
   ]
  },
  {
   "cell_type": "code",
   "execution_count": null,
   "metadata": {},
   "outputs": [],
   "source": [
    "# Regularized Logistic Regression GD\n",
    "max_iters = 1000\n",
    "gamma = 10**-6\n",
    "lambda_ = 0\n",
    "predictions(y_logistic, xs_train, xs_test, masks_train, masks_test, rlgd,pred_len, 2, lambda_, max_iters, gamma, True)"
   ]
  },
  {
   "cell_type": "code",
   "execution_count": null,
   "metadata": {
    "scrolled": true
   },
   "outputs": [],
   "source": [
    "# Regularized Logistic Regression SGD\n",
    "max_iters = 100000\n",
    "gamma = 10**-4\n",
    "lambda_ = 0\n",
    "predictions(y_logistic, xs_train, xs_test, masks_train, masks_test, rlsgd,pred_len, 2, lambda_, max_iters, gamma, True)"
   ]
  },
  {
   "cell_type": "code",
   "execution_count": 36,
   "metadata": {},
   "outputs": [
    {
     "name": "stdout",
     "output_type": "stream",
     "text": [
      "#######New subset#######\n",
      "Degree 2\n",
      "Degree 3\n",
      "Augmented train\n",
      "55351.63820905265\n",
      "55277.951966931454\n",
      "55327.99760541814\n",
      "55398.988609842214\n",
      "55355.92099459371\n",
      "55329.55979612487\n",
      "55376.218828015975\n",
      "55225.448876664756\n",
      "55256.959337480934\n",
      "55211.03451458662\n",
      "Computed weights\n",
      "Degree 2\n",
      "Degree 3\n",
      "Augmented test\n",
      "Computed predictions\n",
      "#######New subset#######\n",
      "Degree 2\n",
      "Degree 3\n",
      "Augmented train\n",
      "57754.74064797783\n",
      "59003.07174745564\n",
      "50939.62690693499\n",
      "54092.38628070537\n",
      "50491.29152804546\n",
      "48310.848476924635\n",
      "51248.10608619589\n",
      "48911.2307727756\n",
      "48472.55523731453\n",
      "48826.106498080204\n",
      "Computed weights\n",
      "Degree 2\n",
      "Degree 3\n",
      "Augmented test\n",
      "Computed predictions\n",
      "#######New subset#######\n",
      "Degree 2\n",
      "Degree 3\n",
      "Augmented train\n",
      "Computed weights\n",
      "Degree 2\n",
      "Degree 3\n",
      "Augmented test\n",
      "Computed predictions\n",
      "0.71956\n"
     ]
    }
   ],
   "source": [
    "degrees=[3,3,3]\n",
    "lambdas=[10**-5,10**-5,10**-5]\n",
    "max_iters=[1000000,1000000,100000] \n",
    "gammas=[10**-1,10**-2,10**-2] \n",
    "logistics=[True,True,False]\n",
    "reg_fs= [lsgd,lsgd,lq]\n",
    "\n",
    "def basic_cross(y,x,p, reg_f, logistic=False):\n",
    "    d=len(y)\n",
    "    shuffle_indices = np.random.permutation(d)\n",
    "    shuffled_x=x[shuffle_indices]\n",
    "    shuffled_y=y[shuffle_indices]\n",
    "    cut_ind=int(p*d)\n",
    "    ytr,xtr,yte,xte= shuffled_y[:cut_ind], shuffled_x[:cut_ind],shuffled_y[cut_ind:], shuffled_x[cut_ind:]\n",
    "    (xstr, mtr) = preprocessing(xtr)\n",
    "    (xste, mte) = preprocessing(xte)\n",
    "    ytrl=np.where(ytr==-1,0,1)\n",
    "    # Logistic Or Not\n",
    "    ys=[ytrl,ytrl,ytr]\n",
    "    y_bar=predictions(ytr,ys, xstr, xste, mtr, mte, reg_fs, len(yte), degrees, lambdas, max_iters, gammas, logistics)\n",
    "    yte[yte==0]=-1\n",
    "    print(np.sum((yte==y_bar))/len(yte))\n",
    "\n",
    "    \n",
    "basic_cross(y,tX_train,0.8,reg_fs)"
   ]
  },
  {
   "cell_type": "markdown",
   "metadata": {},
   "source": [
    "## Generate predictions and save ouput in csv format for submission:"
   ]
  },
  {
   "cell_type": "code",
   "execution_count": null,
   "metadata": {
    "jupyter": {
     "outputs_hidden": false
    }
   },
   "outputs": [],
   "source": [
    "OUTPUT_PATH = '../predictions.csv' # TODO: fill in desired name of output file for submission\n",
    "# y_pred = predict_labels(weights, tX_test)\n",
    "create_csv_submission(ids_test, y_submission, OUTPUT_PATH)"
   ]
  },
  {
   "cell_type": "code",
   "execution_count": null,
   "metadata": {},
   "outputs": [],
   "source": []
  }
 ],
 "metadata": {
  "anaconda-cloud": {},
  "kernelspec": {
   "display_name": "Python 3",
   "language": "python",
   "name": "python3"
  },
  "language_info": {
   "codemirror_mode": {
    "name": "ipython",
    "version": 3
   },
   "file_extension": ".py",
   "mimetype": "text/x-python",
   "name": "python",
   "nbconvert_exporter": "python",
   "pygments_lexer": "ipython3",
   "version": "3.7.1"
  }
 },
 "nbformat": 4,
 "nbformat_minor": 4
}
