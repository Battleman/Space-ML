{
 "cells": [
  {
   "cell_type": "code",
   "execution_count": 1,
   "metadata": {},
   "outputs": [],
   "source": [
    "# Useful starting lines\n",
    "%matplotlib inline\n",
    "import numpy as np\n",
    "import matplotlib.pyplot as plt\n",
    "%load_ext autoreload\n",
    "%autoreload 2\n",
    "\n",
    "from preprocessing import preprocessing\n",
    "from features_engineering import augment\n",
    "from ml_methods import *\n",
    "from proj1_helpers import *\n",
    "import pickle as pkl"
   ]
  },
  {
   "cell_type": "markdown",
   "metadata": {},
   "source": [
    "## Load the training data into feature matrix, class labels, and event ids:"
   ]
  },
  {
   "cell_type": "code",
   "execution_count": 2,
   "metadata": {
    "jupyter": {
     "outputs_hidden": false
    }
   },
   "outputs": [],
   "source": [
    "DATA_TRAIN_PATH = '../data/train.csv' \n",
    "DATA_TEST_PATH = '../data/test.csv'\n",
    "y, tX_train, ids = load_csv_data(DATA_TRAIN_PATH)\n",
    "_, tX_test, ids_test = load_csv_data(DATA_TEST_PATH)"
   ]
  },
  {
   "cell_type": "code",
   "execution_count": 3,
   "metadata": {},
   "outputs": [],
   "source": [
    "(xs_train, masks_train) = preprocessing(tX_train)\n",
    "(xs_test, masks_test) = preprocessing(tX_test)"
   ]
  },
  {
   "cell_type": "code",
   "execution_count": 4,
   "metadata": {},
   "outputs": [
    {
     "name": "stdout",
     "output_type": "stream",
     "text": [
      "#######New subset#######\n",
      "Augmented train\n",
      "Computed weights\n",
      "Augmented test\n",
      "Computed predictions\n",
      "#######New subset#######\n",
      "Augmented train\n",
      "Computed weights\n",
      "Augmented test\n",
      "Computed predictions\n",
      "#######New subset#######\n",
      "Augmented train\n",
      "Computed weights\n",
      "Augmented test\n",
      "Computed predictions\n",
      "[-1.  1. -1. ...  1. -1. -1.]\n"
     ]
    }
   ],
   "source": [
    "y_submission = np.zeros(tX_test.shape[0])\n",
    "for x_train, mask_train, x_test, mask_test in zip(xs_train, masks_train, xs_test, masks_test):\n",
    "    print(\"#######New subset#######\")\n",
    "    y_correspond = y[mask_train]\n",
    "    x_train_aug = augment(x_train, 3)\n",
    "    print(\"Augmented train\")\n",
    "    del x_train\n",
    "    w,_ = least_squares(y_correspond, x_train_aug)\n",
    "    print(\"Computed weights\")\n",
    "    del x_train_aug\n",
    "    x_test_aug = augment(x_test, 3)\n",
    "    print(\"Augmented test\")\n",
    "    del x_test\n",
    "    y_submission[mask_test] = predict_labels(w, x_test_aug)\n",
    "    print(\"Computed predictions\")\n",
    "    del x_test_aug\n",
    "print(y_submission)"
   ]
  },
  {
   "cell_type": "markdown",
   "metadata": {},
   "source": [
    "## Generate predictions and save ouput in csv format for submission:"
   ]
  },
  {
   "cell_type": "code",
   "execution_count": 5,
   "metadata": {
    "jupyter": {
     "outputs_hidden": false
    }
   },
   "outputs": [],
   "source": [
    "OUTPUT_PATH = '../predictions.csv' # TODO: fill in desired name of output file for submission\n",
    "# y_pred = predict_labels(weights, tX_test)\n",
    "create_csv_submission(ids_test, y_submission, OUTPUT_PATH)"
   ]
  },
  {
   "cell_type": "code",
   "execution_count": null,
   "metadata": {},
   "outputs": [],
   "source": []
  }
 ],
 "metadata": {
  "anaconda-cloud": {},
  "kernelspec": {
   "display_name": "ml",
   "language": "python",
   "name": "ml"
  },
  "language_info": {
   "codemirror_mode": {
    "name": "ipython",
    "version": 3
   },
   "file_extension": ".py",
   "mimetype": "text/x-python",
   "name": "python",
   "nbconvert_exporter": "python",
   "pygments_lexer": "ipython3",
   "version": "3.7.3"
  }
 },
 "nbformat": 4,
 "nbformat_minor": 4
}
