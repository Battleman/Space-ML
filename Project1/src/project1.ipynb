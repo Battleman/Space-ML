{
 "cells": [
  {
   "cell_type": "code",
   "execution_count": null,
   "metadata": {},
   "outputs": [],
   "source": [
    "# Useful starting lines\n",
    "%matplotlib inline\n",
    "import numpy as np\n",
    "import matplotlib.pyplot as plt\n",
    "%load_ext autoreload\n",
    "%autoreload 2\n",
    "\n",
    "from preprocessing import preprocessing\n",
    "from features_engineering import augment\n",
    "from ml_methods import *\n",
    "from proj1_helpers import *\n",
    "import pickle as pkl"
   ]
  },
  {
   "cell_type": "markdown",
   "metadata": {},
   "source": [
    "## Load the training data into feature matrix, class labels, and event ids:"
   ]
  },
  {
   "cell_type": "code",
   "execution_count": null,
   "metadata": {
    "jupyter": {
     "outputs_hidden": false
    }
   },
   "outputs": [],
   "source": [
    "DATA_TRAIN_PATH = '../data/train.csv' \n",
    "DATA_TEST_PATH = '../data/test.csv'\n",
    "y, tX_train, ids = load_csv_data(DATA_TRAIN_PATH)\n",
    "_, tX_test, ids_test = load_csv_data(DATA_TEST_PATH)"
   ]
  },
  {
   "cell_type": "code",
   "execution_count": null,
   "metadata": {},
   "outputs": [],
   "source": [
    "(xs_train, masks_train) = preprocessing(tX_train)\n",
    "(xs_test, masks_test) = preprocessing(tX_test)\n",
    "y=y[:,np.newaxis]\n",
    "y_logistic=(y+1)/2"
   ]
  },
  {
   "cell_type": "code",
   "execution_count": null,
   "metadata": {},
   "outputs": [],
   "source": [
    "pred_len=tX_test.shape[0]"
   ]
  },
  {
   "cell_type": "code",
   "execution_count": null,
   "metadata": {},
   "outputs": [],
   "source": [
    "# Least Squares\n",
    "reg_f=lambda a,b,c,d,e,f:least_squares(a,b)\n",
    "predictions(y, xs_train, xs_test, masks_train, masks_test, reg_f,pred_len,2, 0, 0, 0)"
   ]
  },
  {
   "cell_type": "code",
   "execution_count": null,
   "metadata": {},
   "outputs": [],
   "source": [
    "# Least Squares GD\n",
    "max_iters = 1000\n",
    "gamma = 10**-6\n",
    "reg_f=lambda a,b,c,d,e,f: least_squares_GD(a, b, d, e, f)\n",
    "predictions(y, xs_train, xs_test, masks_train, masks_test, reg_f,pred_len, 2, 0, max_iters, gamma)"
   ]
  },
  {
   "cell_type": "code",
   "execution_count": null,
   "metadata": {},
   "outputs": [],
   "source": [
    "# Least Squares SGD\n",
    "max_iters = 1000\n",
    "gamma = 10**-6\n",
    "reg_f=lambda a,b,c,d,e,f: least_squares_SGD(a, b, d, e, f)\n",
    "predictions(y, xs_train, xs_test, masks_train, masks_test, reg_f,pred_len, 2, 0, max_iters, gamma)"
   ]
  },
  {
   "cell_type": "code",
   "execution_count": null,
   "metadata": {},
   "outputs": [],
   "source": [
    "# Ridge Regression\n",
    "lambda_ = 0\n",
    "reg_f=lambda a,b,c,d,e,f: ridge_regression(a, b, c)\n",
    "predictions(y, xs_train, xs_test, masks_train, masks_test, reg_f,pred_len, 2, lambda_, 0, 0)"
   ]
  },
  {
   "cell_type": "code",
   "execution_count": null,
   "metadata": {},
   "outputs": [],
   "source": [
    "# Logistic Regression GD\n",
    "max_iters = 1000\n",
    "gamma = 10**-6\n",
    "reg_f=lambda a,b,c,d,e,f: logistic_regression_GD(a,b,d,e,f)\n",
    "predictions(y, xs_train, xs_test, masks_train, masks_test, reg_f,pred_len, 2, 0, max_iters, gamma, True)"
   ]
  },
  {
   "cell_type": "code",
   "execution_count": null,
   "metadata": {},
   "outputs": [],
   "source": [
    "# Logistic Regression SGD\n",
    "max_iters = 100000\n",
    "gamma = 10**-6\n",
    "reg_f=lambda a,b,c,d,e,f: logistic_regression_SGD(a,b,d,e,f)\n",
    "predictions(y_logistic, xs_train, xs_test, masks_train, masks_test, reg_f,pred_len, 2, 0, max_iters, gamma, True)"
   ]
  },
  {
   "cell_type": "code",
   "execution_count": null,
   "metadata": {},
   "outputs": [],
   "source": [
    "# Regularized Logistic Regression GD\n",
    "max_iters = 1000\n",
    "gamma = 10**-6\n",
    "lambda_ = 0\n",
    "reg_f=reg_logistic_regression_GD\n",
    "predictions(y_logistic, xs_train, xs_test, masks_train, masks_test, reg_f,pred_len, 2, lambda_, max_iters, gamma, True)"
   ]
  },
  {
   "cell_type": "code",
   "execution_count": null,
   "metadata": {
    "scrolled": true
   },
   "outputs": [],
   "source": [
    "# Regularized Logistic Regression SGD\n",
    "max_iters = 100000\n",
    "gamma = 10**-4\n",
    "lambda_ = 0\n",
    "reg_f=reg_logistic_regression_SGD\n",
    "predictions(y_logistic, xs_train, xs_test, masks_train, masks_test, reg_f,pred_len, 2, lambda_, max_iters, gamma, True)"
   ]
  },
  {
   "cell_type": "code",
   "execution_count": null,
   "metadata": {},
   "outputs": [],
   "source": [
    "def basic_cross(y,x,p, reg_f, logistic=False):\n",
    "    d=len(y)\n",
    "    shuffle_indices = np.random.permutation(d)\n",
    "    shuffled_x=x[shuffle_indices]\n",
    "    shuffled_y=y[shuffle_indices]\n",
    "    cut_ind=int(p*d)\n",
    "    ytr,xtr,yte,xte= shuffled_y[:cut_ind], shuffled_x[:cut_ind],shuffled_y[cut_ind:], shuffled_x[cut_ind:]\n",
    "    (xstr, mtr) = preprocessing(xtr)\n",
    "    (xste, mte) = preprocessing(xte)\n",
    "    max_iters = 1000\n",
    "    gamma = 10**-3\n",
    "    lambda_ = 10**-5\n",
    "    degree=3\n",
    "    y_bar=predictions(ytr, xstr, xste, mtr, mte, reg_f, len(yte), degree, lambda_, max_iters, gamma, logistic)\n",
    "    yte[yte==0]=-1\n",
    "    print(np.sum((yte==y_bar))/len(yte))\n",
    "    \n",
    "basic_cross(y,tX_train,0.5,lambda a,b,c,d,e,f: least_squares_GD(a, b, d, e, f))"
   ]
  },
  {
   "cell_type": "markdown",
   "metadata": {},
   "source": [
    "## Generate predictions and save ouput in csv format for submission:"
   ]
  },
  {
   "cell_type": "code",
   "execution_count": null,
   "metadata": {
    "jupyter": {
     "outputs_hidden": false
    }
   },
   "outputs": [],
   "source": [
    "OUTPUT_PATH = '../predictions.csv' # TODO: fill in desired name of output file for submission\n",
    "# y_pred = predict_labels(weights, tX_test)\n",
    "create_csv_submission(ids_test, y_submission, OUTPUT_PATH)"
   ]
  },
  {
   "cell_type": "code",
   "execution_count": null,
   "metadata": {},
   "outputs": [],
   "source": []
  }
 ],
 "metadata": {
  "anaconda-cloud": {},
  "kernelspec": {
   "display_name": "Python 3",
   "language": "python",
   "name": "python3"
  },
  "language_info": {
   "codemirror_mode": {
    "name": "ipython",
    "version": 3
   },
   "file_extension": ".py",
   "mimetype": "text/x-python",
   "name": "python",
   "nbconvert_exporter": "python",
   "pygments_lexer": "ipython3",
   "version": "3.7.1"
  }
 },
 "nbformat": 4,
 "nbformat_minor": 4
}
