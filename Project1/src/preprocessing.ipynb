{
 "cells": [
  {
   "cell_type": "markdown",
   "metadata": {},
   "source": [
    "# Pipeline Of Data Preprocessing\n",
    "# Important Imports"
   ]
  },
  {
   "cell_type": "code",
   "execution_count": 19,
   "metadata": {},
   "outputs": [
    {
     "name": "stdout",
     "output_type": "stream",
     "text": [
      "The autoreload extension is already loaded. To reload it, use:\n",
      "  %reload_ext autoreload\n"
     ]
    }
   ],
   "source": [
    "# Useful starting lines\n",
    "%matplotlib inline\n",
    "import numpy as np\n",
    "%load_ext autoreload\n",
    "%autoreload 2"
   ]
  },
  {
   "cell_type": "markdown",
   "metadata": {},
   "source": [
    "# Constants"
   ]
  },
  {
   "cell_type": "code",
   "execution_count": 20,
   "metadata": {},
   "outputs": [],
   "source": [
    "#indicator of the missing values\n",
    "undef_value=-999\n",
    "#index of the splitter (PRI_jet_num)\n",
    "jet_ind=22\n",
    "#index of all the non-relevant columns (post-split)\n",
    "phi=np.array([jet_ind,15,18,20])"
   ]
  },
  {
   "cell_type": "markdown",
   "metadata": {},
   "source": [
    "## Helper Functions"
   ]
  },
  {
   "cell_type": "code",
   "execution_count": 21,
   "metadata": {},
   "outputs": [],
   "source": [
    "#returns the most common value in x, -999 excluded\n",
    "def most_common(x):\n",
    "    temp=np.unique(x[x!=undef_value], return_counts=True)\n",
    "    return temp[0][temp[1].argmax()]\n",
    "\n",
    "#replaces all -999 of x by the most common value of the corresponding column (-999 excluded)\n",
    "def outlier_cleanup(x):\n",
    "    com_vector=np.apply_along_axis(most_common, 0, x)\n",
    "    com_matrix=np.repeat(com_vector[np.newaxis,:],np.array([x.shape[0]]),axis=0)\n",
    "    return np.where(x!=undef_value,x,com_matrix)\n"
   ]
  },
  {
   "cell_type": "markdown",
   "metadata": {},
   "source": [
    "# Pipeline"
   ]
  },
  {
   "cell_type": "code",
   "execution_count": 22,
   "metadata": {},
   "outputs": [],
   "source": [
    "def pipeline(y, x):\n",
    "    \n",
    "    #splitting the samples in function of the value of PRI_jet_num \n",
    "    x_jet0=x[x[:,jet_ind]==0]\n",
    "    x_jet1=x[x[:,jet_ind]==1]\n",
    "    x_jet23=x[x[:,jet_ind]>1]\n",
    "    \n",
    "    #splitting the y values\n",
    "    y_jet0=y[x[:,jet_ind]==0]\n",
    "    y_jet1=y[x[:,jet_ind]==1]\n",
    "    y_jet23=y[x[:,jet_ind]>1]\n",
    "    \n",
    "    #removing all the non-relevant columns\n",
    "    x_jet0=np.delete(x_jet0,phi,1)\n",
    "    x_jet1=np.delete(x_jet1,phi,1)\n",
    "    x_jet23=np.delete(x_jet23,phi,1)\n",
    "    \n",
    "    #removing all -999 columns\n",
    "    x_jet0=x_jet0[:,np.var(x_jet0,0)!=0]\n",
    "    x_jet1=x_jet1[:,np.var(x_jet1,0)!=0]\n",
    "    x_jet23=x_jet23[:,np.var(x_jet23,0)!=0]\n",
    "    \n",
    "    #replacing the outliers by the most common value of their column\n",
    "    x_jet0=outlier_cleanup(x_jet0)\n",
    "    x_jet1=outlier_cleanup(x_jet1)\n",
    "    x_jet23=outlier_cleanup(x_jet23)\n",
    "    \n",
    "    return np.array([[y_jet0,x_jet0],[y_jet1,x_jet1],[y_jet23,x_jet23]])"
   ]
  }
 ],
 "metadata": {
  "kernelspec": {
   "display_name": "Python 3",
   "language": "python",
   "name": "python3"
  },
  "language_info": {
   "codemirror_mode": {
    "name": "ipython",
    "version": 3
   },
   "file_extension": ".py",
   "mimetype": "text/x-python",
   "name": "python",
   "nbconvert_exporter": "python",
   "pygments_lexer": "ipython3",
   "version": "3.7.1"
  }
 },
 "nbformat": 4,
 "nbformat_minor": 4
}
