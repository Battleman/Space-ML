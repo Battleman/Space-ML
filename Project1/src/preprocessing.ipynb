{
 "cells": [
  {
   "cell_type": "markdown",
   "metadata": {},
   "source": [
    "# Pipeline of data preprocessing\n",
    "## Removing useless features ($\\phi$)"
   ]
  },
  {
   "cell_type": "code",
   "execution_count": 1,
   "metadata": {},
   "outputs": [],
   "source": [
    "def remove_phi(tX_in, y_in, ids_in):\n",
    "    tX_out = tX_in\n",
    "    y_out = y_in\n",
    "    ids_out = ids_in\n",
    "    return tX_out, y_out, ids_out"
   ]
  },
  {
   "cell_type": "markdown",
   "metadata": {},
   "source": [
    "## Splitting by jet_num"
   ]
  },
  {
   "cell_type": "code",
   "execution_count": 2,
   "metadata": {},
   "outputs": [],
   "source": [
    "def split_by_jet_num(tX_in, y_in, ids_in):\n",
    "    return [[tx0, y0, ids0], [tx1, y1, ids1], [tx2, y2, y2]]"
   ]
  },
  {
   "cell_type": "markdown",
   "metadata": {},
   "source": [
    "## Remove undefined columns"
   ]
  },
  {
   "cell_type": "code",
   "execution_count": 3,
   "metadata": {},
   "outputs": [],
   "source": [
    "def remove_undefined_cols(tX_in, undef_columns):\n",
    "    return tX_out"
   ]
  },
  {
   "cell_type": "markdown",
   "metadata": {},
   "source": [
    "## Sanitize undefined values (-999)"
   ]
  },
  {
   "cell_type": "code",
   "execution_count": 4,
   "metadata": {},
   "outputs": [],
   "source": [
    "def sanitize_undefined_vals(tX_in):\n",
    "    return tX_out"
   ]
  },
  {
   "cell_type": "markdown",
   "metadata": {},
   "source": [
    "# Combining pipeline (example)\n",
    "(should probably not be ran)"
   ]
  },
  {
   "cell_type": "code",
   "execution_count": null,
   "metadata": {},
   "outputs": [],
   "source": [
    "tX, y, ids = remove_phi(tX, y, ids)\n",
    "by_jet = split_by_jet_num(tX, y, ids)\n",
    "cleaned_data = []\n",
    "for tX_i, y_i, ids_i in by_jet:\n",
    "    tX_i = remove_undefined_cols(tX_i, [1,2,57,123,763])\n",
    "    tX_i = sanitize_undefined_vals(tX_i)\n",
    "    cleaned_tX.append([tX_i, y_i, ids_i])\n",
    "    \n",
    "# now use cleaned_data as 3 models"
   ]
  }
 ],
 "metadata": {
  "kernelspec": {
   "display_name": "ml",
   "language": "python",
   "name": "ml"
  },
  "language_info": {
   "codemirror_mode": {
    "name": "ipython",
    "version": 3
   },
   "file_extension": ".py",
   "mimetype": "text/x-python",
   "name": "python",
   "nbconvert_exporter": "python",
   "pygments_lexer": "ipython3",
   "version": "3.7.3"
  }
 },
 "nbformat": 4,
 "nbformat_minor": 4
}
