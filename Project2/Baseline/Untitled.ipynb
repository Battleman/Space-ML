{
 "cells": [
  {
   "cell_type": "code",
   "execution_count": 12,
   "metadata": {},
   "outputs": [],
   "source": [
    "import numpy as np\n",
    "from helpers import compute_error, split_data, load_data\n",
    "import pandas as pd"
   ]
  },
  {
   "cell_type": "markdown",
   "metadata": {},
   "source": [
    "10'000 users for 1'000 different items"
   ]
  },
  {
   "cell_type": "code",
   "execution_count": 2,
   "metadata": {},
   "outputs": [],
   "source": [
    "ratings = load_data(\"../data/data_train.csv\")"
   ]
  },
  {
   "cell_type": "code",
   "execution_count": 3,
   "metadata": {},
   "outputs": [],
   "source": [
    "nnz_row, nnz_col = ratings.nonzero()\n",
    "nnz_pos = list(zip(nnz_row, nnz_col))"
   ]
  },
  {
   "cell_type": "code",
   "execution_count": 4,
   "metadata": {},
   "outputs": [],
   "source": [
    "global_mean = np.mean([ratings[pos] for pos in nnz_pos])"
   ]
  },
  {
   "cell_type": "code",
   "execution_count": 5,
   "metadata": {},
   "outputs": [
    {
     "name": "stdout",
     "output_type": "stream",
     "text": [
      "(10000, 1000)\n"
     ]
    }
   ],
   "source": [
    "# row == user == 10k\n",
    "# col == item == 1k\n",
    "ubias = []\n",
    "ibias = []\n",
    "num_users, num_items = ratings.shape\n",
    "print(ratings.shape)\n",
    "for user_index in range(num_users):\n",
    "        # find the non-zero ratings for each user in the training dataset\n",
    "        user_ratings = ratings[user_index, :]\n",
    "        nonzeros_user_ratings = user_ratings[user_ratings.nonzero()]\n",
    "        \n",
    "        # calculate the mean if the number of elements is not 0\n",
    "        if nonzeros_user_ratings.shape[0] != 0:\n",
    "            ubias.append(nonzeros_user_ratings.mean() - global_mean)\n",
    "\n",
    "for item_index in range(num_items):\n",
    "    item_ratings = ratings[:, item_index]\n",
    "#         print(item_ratings)\n",
    "    nonzeros_item_ratings = item_ratings[item_ratings.nonzero()]\n",
    "#         print(nonzeros_item_ratings)\n",
    "    # calculate the mean if the number of elements is not\n",
    "    bias = []\n",
    "    if nonzeros_item_ratings.shape[0] != 0:\n",
    "        for r in item_ratings.nonzero()[0]:\n",
    "            try:\n",
    "                bias.append(ratings[r, item_index] - global_mean - ubias[r])\n",
    "            except IndexError:\n",
    "                print(\"r is: {}\\nitem_ratings is {}\\nitem_index is {}\".format(r, item_ratings, item_index))\n",
    "                raise IndexError\n",
    "        ibias.append(np.mean(bias))\n",
    "\n",
    "        "
   ]
  },
  {
   "cell_type": "code",
   "execution_count": 14,
   "metadata": {},
   "outputs": [],
   "source": [
    "sample_submit = load_data(\"../data/sampleSubmission.csv\")"
   ]
  },
  {
   "cell_type": "code",
   "execution_count": 22,
   "metadata": {},
   "outputs": [],
   "source": [
    "nnz_row_final, nnz_col_final = sample_submit.nonzero()\n",
    "preds = [(\"r{}_c{}\".format(r,c), global_mean + ubias[r] + ibias[c]) for r,c in zip(nnz_row_final, nnz_col_final)]\n",
    "predictions = pd.DataFrame(preds, columns=[\"Id\", \"Prediction\"])"
   ]
  },
  {
   "cell_type": "code",
   "execution_count": 23,
   "metadata": {},
   "outputs": [],
   "source": [
    "predictions.to_csv(\"cache/predictions_baseline.csv\", index=False)"
   ]
  },
  {
   "cell_type": "code",
   "execution_count": 28,
   "metadata": {},
   "outputs": [],
   "source": [
    "from main import main"
   ]
  },
  {
   "cell_type": "code",
   "execution_count": 29,
   "metadata": {},
   "outputs": [
    {
     "name": "stdout",
     "output_type": "stream",
     "text": [
      "(10000, 1000)\n"
     ]
    },
    {
     "data": {
      "text/html": [
       "<div>\n",
       "<style scoped>\n",
       "    .dataframe tbody tr th:only-of-type {\n",
       "        vertical-align: middle;\n",
       "    }\n",
       "\n",
       "    .dataframe tbody tr th {\n",
       "        vertical-align: top;\n",
       "    }\n",
       "\n",
       "    .dataframe thead th {\n",
       "        text-align: right;\n",
       "    }\n",
       "</style>\n",
       "<table border=\"1\" class=\"dataframe\">\n",
       "  <thead>\n",
       "    <tr style=\"text-align: right;\">\n",
       "      <th></th>\n",
       "      <th>Id</th>\n",
       "      <th>Prediction</th>\n",
       "    </tr>\n",
       "  </thead>\n",
       "  <tbody>\n",
       "    <tr>\n",
       "      <th>0</th>\n",
       "      <td>r0_c3</td>\n",
       "      <td>4.0</td>\n",
       "    </tr>\n",
       "    <tr>\n",
       "      <th>1</th>\n",
       "      <td>r0_c7</td>\n",
       "      <td>4.0</td>\n",
       "    </tr>\n",
       "    <tr>\n",
       "      <th>2</th>\n",
       "      <td>r0_c20</td>\n",
       "      <td>4.0</td>\n",
       "    </tr>\n",
       "    <tr>\n",
       "      <th>3</th>\n",
       "      <td>r0_c101</td>\n",
       "      <td>4.0</td>\n",
       "    </tr>\n",
       "    <tr>\n",
       "      <th>4</th>\n",
       "      <td>r0_c126</td>\n",
       "      <td>4.0</td>\n",
       "    </tr>\n",
       "    <tr>\n",
       "      <th>...</th>\n",
       "      <td>...</td>\n",
       "      <td>...</td>\n",
       "    </tr>\n",
       "    <tr>\n",
       "      <th>1176947</th>\n",
       "      <td>r9999_c866</td>\n",
       "      <td>4.0</td>\n",
       "    </tr>\n",
       "    <tr>\n",
       "      <th>1176948</th>\n",
       "      <td>r9999_c888</td>\n",
       "      <td>3.0</td>\n",
       "    </tr>\n",
       "    <tr>\n",
       "      <th>1176949</th>\n",
       "      <td>r9999_c896</td>\n",
       "      <td>3.0</td>\n",
       "    </tr>\n",
       "    <tr>\n",
       "      <th>1176950</th>\n",
       "      <td>r9999_c924</td>\n",
       "      <td>4.0</td>\n",
       "    </tr>\n",
       "    <tr>\n",
       "      <th>1176951</th>\n",
       "      <td>r9999_c950</td>\n",
       "      <td>4.0</td>\n",
       "    </tr>\n",
       "  </tbody>\n",
       "</table>\n",
       "<p>1176952 rows × 2 columns</p>\n",
       "</div>"
      ],
      "text/plain": [
       "                 Id  Prediction\n",
       "0             r0_c3         4.0\n",
       "1             r0_c7         4.0\n",
       "2            r0_c20         4.0\n",
       "3           r0_c101         4.0\n",
       "4           r0_c126         4.0\n",
       "...             ...         ...\n",
       "1176947  r9999_c866         4.0\n",
       "1176948  r9999_c888         3.0\n",
       "1176949  r9999_c896         3.0\n",
       "1176950  r9999_c924         4.0\n",
       "1176951  r9999_c950         4.0\n",
       "\n",
       "[1176952 rows x 2 columns]"
      ]
     },
     "execution_count": 29,
     "metadata": {},
     "output_type": "execute_result"
    }
   ],
   "source": [
    "main(\"../data/data_train.csv\", \"../data/sampleSubmission.csv\")"
   ]
  },
  {
   "cell_type": "code",
   "execution_count": null,
   "metadata": {},
   "outputs": [],
   "source": []
  }
 ],
 "metadata": {
  "kernelspec": {
   "display_name": "ml",
   "language": "python",
   "name": "ml"
  },
  "language_info": {
   "codemirror_mode": {
    "name": "ipython",
    "version": 3
   },
   "file_extension": ".py",
   "mimetype": "text/x-python",
   "name": "python",
   "nbconvert_exporter": "python",
   "pygments_lexer": "ipython3",
   "version": "3.7.3"
  }
 },
 "nbformat": 4,
 "nbformat_minor": 2
}
