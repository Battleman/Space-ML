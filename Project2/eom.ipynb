{
 "cells": [
  {
   "cell_type": "code",
   "execution_count": null,
   "metadata": {},
   "outputs": [],
   "source": [
    "import numpy as np\n",
    "import pandas as pd\n",
    "from scipy import stats\n",
    "\n",
    "#importing the models\n",
    "import Kmeans\n",
    "import ALS\n",
    "import NN"
   ]
  },
  {
   "cell_type": "code",
   "execution_count": null,
   "metadata": {},
   "outputs": [],
   "source": [
    "def median_vote(predictions):\n",
    "    #computing the median\n",
    "    median=np.median(predictions,axis=0)\n",
    "    #making sure the result is an int (not the case if the amount of predictions is even)\n",
    "    bounded_median=np.floor(median)\n",
    "    return bounded_median"
   ]
  },
  {
   "cell_type": "code",
   "execution_count": null,
   "metadata": {},
   "outputs": [],
   "source": [
    "def mode_vote(predictions):\n",
    "    #computing the mode\n",
    "    return stats.mode(predictions,axis=0)[0]"
   ]
  },
  {
   "cell_type": "code",
   "execution_count": null,
   "metadata": {},
   "outputs": [],
   "source": [
    "def vote(voting_f):\n",
    "    #useful constants\n",
    "    submission_path='submission.csv'\n",
    "    training_path = \"data/data_train.csv\"\n",
    "    format_path = \"data/sampleSubmission.csv\"\n",
    "    #Initializing 'predictions' and 'labels' using a first prediction\n",
    "    predictions=ALS.main(training_path, format_path).to_numpy()\n",
    "    labels=predictions[:,0]\n",
    "    predictions=predictions[:,1]\n",
    "    #computing multiple predictions of the kmeans algorithm\n",
    "    for k in [3,6,7]:\n",
    "        predictions=np.vstack((predictions,Kmeans.main(training_path, format_path, k).to_numpy()[:,1]))\n",
    "    \n",
    "    predictions=np.vstack((predictions, NN.main(training_path, format_path).to_numpy()[:,1]))\n",
    "    \n",
    "    #finding the best prediction though the voting function\n",
    "    pred=pd.DataFrame(np.vstack((labels,voting_f(predictions))).T)\n",
    "    pred=pred.rename(columns={0: 'Id', 1:'Prediction'})\n",
    "    #exporting the final prediction using the submission path\n",
    "    pred.to_csv(submission_path)"
   ]
  },
  {
   "cell_type": "code",
   "execution_count": null,
   "metadata": {},
   "outputs": [],
   "source": [
    "vote(median_vote)"
   ]
  },
  {
   "cell_type": "code",
   "execution_count": null,
   "metadata": {},
   "outputs": [],
   "source": [
    "#useful constants\n",
    "submission_path='submission.csv'\n",
    "training_path = \"data/data_train.csv\"\n",
    "format_path = \"data/sampleSubmission.csv\"\n",
    "#Initializing 'predictions' and 'labels' using a first prediction\n",
    "predictions_als=ALS.main(training_path, format_path)\n",
    "predictions_als.set_index(\"Id\", inplace=True)\n"
   ]
  },
  {
   "cell_type": "code",
   "execution_count": null,
   "metadata": {},
   "outputs": [],
   "source": [
    "#computing multiple predictions of the kmeans algorithm\n",
    "k=7\n",
    "predictions_kmeans = Kmeans.main(training_path, format_path, k)\n",
    "predictions_kmeans.set_index(\"Id\", inplace=True)"
   ]
  },
  {
   "cell_type": "code",
   "execution_count": null,
   "metadata": {},
   "outputs": [],
   "source": [
    "predictions_nn = NN.main(training_path, format_path)\n",
    "predictions_nn.set_index(\"Id\", inplace=True)"
   ]
  },
  {
   "cell_type": "code",
   "execution_count": null,
   "metadata": {},
   "outputs": [],
   "source": [
    "concat = pd.merge(pd.merge(predictions_kmeans, predictions_als, left_index=True, right_index=True), predictions_nn, left_index=True, right_index=True)\n",
    "concat.columns = [\"Pred1\", \"Pred2\", \"Pred3\"]\n",
    "concat[\"Prediction\"] = concat.median(axis=1)\n",
    "concat.drop([\"Pred1\", \"Pred2\", \"Pred3\"], axis=1, inplace=True)"
   ]
  },
  {
   "cell_type": "code",
   "execution_count": null,
   "metadata": {},
   "outputs": [],
   "source": [
    "predictions_kmeans.Prediction.value_counts()"
   ]
  },
  {
   "cell_type": "code",
   "execution_count": null,
   "metadata": {},
   "outputs": [],
   "source": [
    "concat.to_csv(submission_path)"
   ]
  }
 ],
 "metadata": {
  "kernelspec": {
   "display_name": "ml",
   "language": "python",
   "name": "ml"
  },
  "language_info": {
   "codemirror_mode": {
    "name": "ipython",
    "version": 3
   },
   "file_extension": ".py",
   "mimetype": "text/x-python",
   "name": "python",
   "nbconvert_exporter": "python",
   "pygments_lexer": "ipython3",
   "version": "3.7.3"
  }
 },
 "nbformat": 4,
 "nbformat_minor": 2
}
