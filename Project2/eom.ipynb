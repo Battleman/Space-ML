{
 "cells": [
  {
   "cell_type": "markdown",
   "metadata": {},
   "source": [
    "# Imports"
   ]
  },
  {
   "cell_type": "code",
   "execution_count": null,
   "metadata": {},
   "outputs": [],
   "source": [
    "import numpy as np\n",
    "import pandas as pd\n",
    "from scipy import stats\n",
    "#importing the models\n",
    "import Kmeans\n",
    "import ALS\n",
    "import NN\n",
    "import sklearn\n",
    "import Surprize\n",
    "import matplotlib.pyplot as plt\n",
    "\n",
    "np.random.seed(1)"
   ]
  },
  {
   "cell_type": "markdown",
   "metadata": {},
   "source": [
    "# Final Functions"
   ]
  },
  {
   "cell_type": "code",
   "execution_count": null,
   "metadata": {},
   "outputs": [],
   "source": [
    "def median_vote(predictions):\n",
    "    #computing the median\n",
    "    median=np.median(predictions,axis=0)\n",
    "    #making sure the result is an int (not the case if the amount of predictions is even)\n",
    "    bounded_median=np.floor(median)\n",
    "    return bounded_median"
   ]
  },
  {
   "cell_type": "code",
   "execution_count": null,
   "metadata": {},
   "outputs": [],
   "source": [
    "def mode_vote(predictions):\n",
    "    #computing the mode\n",
    "    return stats.mode(predictions,axis=0)[0]"
   ]
  },
  {
   "cell_type": "code",
   "execution_count": null,
   "metadata": {},
   "outputs": [],
   "source": [
    "def maj_vote(predictions):\n",
    "    top=predictions.iloc[0][:,np.newaxis]\n",
    "    mode=stats.mode(predictions,axis=0)\n",
    "    freq=mode[1].T/predictions.shape[0]\n",
    "    return np.where(freq<0.5,top,mode[0].T)"
   ]
  },
  {
   "cell_type": "code",
   "execution_count": null,
   "metadata": {},
   "outputs": [],
   "source": [
    "def cluster_vote(predictions):\n",
    "    return np.round(np.mean(predictions,0))"
   ]
  },
  {
   "cell_type": "code",
   "execution_count": null,
   "metadata": {},
   "outputs": [],
   "source": [
    "def vote(voting_f):\n",
    "    #useful constants\n",
    "    submission_path='submission.csv'\n",
    "    training_path = \"data/data_train.csv\"\n",
    "    format_path = \"data/sampleSubmission.csv\"\n",
    "    #Loading the data\n",
    "    print(\"Loading datasets\")\n",
    "    try:\n",
    "        input_ = pd.read_csv(training_path)\n",
    "        format_ = pd.read_csv(format_path)\n",
    "    except FileNotFoundError:\n",
    "        print(\"Impossible to load training or format files, \"\n",
    "              \"please double check\")\n",
    "        return pd.DataFrame([])\n",
    "    #computing the prediction of the ALS algorithm\n",
    "    predictions=ALS.main(input_.copy(), format_.copy())\n",
    "    print(predictions.head(),format_.head())\n",
    "    #computing multiple predictions of the kmeans algorithm\n",
    "    for k in [6]:\n",
    "        predictions=predictions.merge(Kmeans.main(input_.copy(), format_.copy(), k),on='Id')\n",
    "        print(predictions.shape)\n",
    "    #computing the prediction of the NN algorithm\n",
    "    predictions=predictions.merge(NN.main(input_.copy(), format_.copy()),on='Id')\n",
    "    print(predictions.shape)\n",
    "    #setting 'Id' as the index of the aggregation of predictions\n",
    "    predictions.set_index('Id', inplace=True)\n",
    "    #finding the best prediction through the voting function\n",
    "    print('Voting...')\n",
    "    predictions['Prediction']=voting_f(predictions.T)\n",
    "    #exporting the final prediction using the submission path\n",
    "    print('Exporting the final prediction...')\n",
    "    predictions[['Prediction']].to_csv(submission_path)\n",
    "    print('Done!')\n",
    "    return predictions[['Prediction']]"
   ]
  },
  {
   "cell_type": "code",
   "execution_count": null,
   "metadata": {},
   "outputs": [],
   "source": [
    "coco=vote(cluster_vote)"
   ]
  },
  {
   "cell_type": "markdown",
   "metadata": {},
   "source": [
    "# Cross-Validation"
   ]
  },
  {
   "cell_type": "code",
   "execution_count": null,
   "metadata": {},
   "outputs": [],
   "source": [
    "#useful constants\n",
    "submission_path='submission.csv'\n",
    "training_path = \"data/data_train.csv\"\n",
    "format_path = \"data/sampleSubmission.csv\""
   ]
  },
  {
   "cell_type": "code",
   "execution_count": null,
   "metadata": {},
   "outputs": [],
   "source": [
    "#Loading the data\n",
    "print(\"Loading datasets\")\n",
    "try:\n",
    "    input_ = pd.read_csv(training_path)\n",
    "    format_ = pd.read_csv(format_path)\n",
    "except FileNotFoundError:\n",
    "    print(\"Impossible to load training or format files, \"\n",
    "          \"please double check\")"
   ]
  },
  {
   "cell_type": "code",
   "execution_count": null,
   "metadata": {},
   "outputs": [],
   "source": [
    "#Splitting the data\n",
    "train, test =sklearn.model_selection.train_test_split(input_,test_size=0.1)"
   ]
  },
  {
   "cell_type": "code",
   "execution_count": null,
   "metadata": {},
   "outputs": [],
   "source": [
    "predictions_surprize = Surprize.main(train, test, cache_name=\"test\")"
   ]
  },
  {
   "cell_type": "code",
   "execution_count": null,
   "metadata": {},
   "outputs": [],
   "source": [
    "#computing the predictions of the ALS algorithm\n",
    "predictions_als=ALS.main(train.copy(), test.copy()).set_index(\"Id\")"
   ]
  },
  {
   "cell_type": "code",
   "execution_count": null,
   "metadata": {},
   "outputs": [],
   "source": [
    "#computing the best prediction of the kmeans algorithm\n",
    "k=6\n",
    "predictions_kmeans = Kmeans.main(train.copy(), test.copy(), k).set_index(\"Id\")"
   ]
  },
  {
   "cell_type": "code",
   "execution_count": null,
   "metadata": {},
   "outputs": [],
   "source": [
    "#computing the prediction of the NN algorithm\n",
    "predictions_nn = NN.main(train.copy(), test.copy()).set_index(\"Id\")"
   ]
  },
  {
   "cell_type": "code",
   "execution_count": null,
   "metadata": {},
   "outputs": [],
   "source": [
    "#putting all the predictions in a same table\n",
    "concat = pd.merge(pd.merge(predictions_kmeans, predictions_als, left_index=True, right_index=True), predictions_nn, left_index=True, right_index=True)\n",
    "concat.columns = [\"Pred1\", \"Pred2\", \"Pred3\"]\n",
    "#approximating the rmse through cross-validation\n",
    "voting_f=cluster_vote\n",
    "concat['Prediction']=voting_f(concat[[\"Pred1\", \"Pred2\", \"Pred3\"]].T,[w1,w2,w3])\n",
    "print(np.mean((test.set_index(\"Id\")-concat[['Prediction']])**2)**(1/2))\n",
    "concat.drop([\"Pred1\", \"Pred2\", \"Pred3\"], axis=1, inplace=True)\n",
    "concat.head()"
   ]
  }
 ],
 "metadata": {
  "kernelspec": {
   "display_name": "ml",
   "language": "python",
   "name": "ml"
  },
  "language_info": {
   "codemirror_mode": {
    "name": "ipython",
    "version": 3
   },
   "file_extension": ".py",
   "mimetype": "text/x-python",
   "name": "python",
   "nbconvert_exporter": "python",
   "pygments_lexer": "ipython3",
   "version": "3.7.3"
  }
 },
 "nbformat": 4,
 "nbformat_minor": 2
}
