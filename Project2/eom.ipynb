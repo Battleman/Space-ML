{
 "cells": [
  {
   "cell_type": "markdown",
   "metadata": {},
   "source": [
    "# Imports"
   ]
  },
  {
   "cell_type": "code",
   "execution_count": null,
   "metadata": {},
   "outputs": [],
   "source": [
    "%load_ext autoreload\n",
    "%autoreload 2\n",
    "import numpy as np\n",
    "import pandas as pd\n",
    "from scipy import stats\n",
    "import sklearn\n",
    "import matplotlib.pyplot as plt\n",
    "from sklearn.linear_model import RidgeCV\n",
    "from sklearn.preprocessing import PolynomialFeatures\n",
    "#importing the models\n",
    "import Kmeans\n",
    "import ALS\n",
    "import NN\n",
    "import Surprize"
   ]
  },
  {
   "cell_type": "markdown",
   "metadata": {},
   "source": [
    "# Find predictors weights"
   ]
  },
  {
   "cell_type": "code",
   "execution_count": null,
   "metadata": {},
   "outputs": [],
   "source": [
    "#useful constants\n",
    "submission_path='submission.csv'\n",
    "training_path = \"data/data_train.csv\"\n",
    "format_path = \"data/sampleSubmission.csv\""
   ]
  },
  {
   "cell_type": "code",
   "execution_count": null,
   "metadata": {},
   "outputs": [],
   "source": [
    "#Loading the data\n",
    "print(\"Loading datasets\")\n",
    "try:\n",
    "    input_ = pd.read_csv(training_path)\n",
    "    format_ = pd.read_csv(format_path)\n",
    "except FileNotFoundError:\n",
    "    print(\"Impossible to load training or format files, \"\n",
    "          \"please double check\")"
   ]
  },
  {
   "cell_type": "code",
   "execution_count": null,
   "metadata": {},
   "outputs": [],
   "source": [
    "#Splitting the data\n",
    "np.random.seed(1)\n",
    "train, test =sklearn.model_selection.train_test_split(input_,test_size=0.1)"
   ]
  },
  {
   "cell_type": "code",
   "execution_count": null,
   "metadata": {
    "scrolled": true
   },
   "outputs": [],
   "source": [
    "#computing the predictions of the Surprize algorithm\n",
    "predictions_surprize_test = Surprize.main(train.copy(), test.copy(), \n",
    "                                          cache_name=\"test\")\n",
    "\n",
    "# #computing the predictions of the ALS algorithm\n",
    "predictions_als_test=ALS.main(train.copy(), test.copy())\n",
    "\n",
    "#computing the best prediction of the kmeans algorithm\n",
    "k=6\n",
    "predictions_kmeans_test = Kmeans.main(train.copy(), test.copy(), k, rounded=False)\n",
    "\n",
    "#computing the prediction of the NN algorithm\n",
    "predictions_nn_test = NN.main(train.copy(), test.copy())"
   ]
  },
  {
   "cell_type": "code",
   "execution_count": null,
   "metadata": {},
   "outputs": [],
   "source": [
    "true_ratings_test = test.copy()\n",
    "true_ratings_test.set_index(\"Id\", inplace=True)\n",
    "true_ratings_test.columns = [\"y\"]\n",
    "concat_test = pd.concat([predictions_als_test, \n",
    "                    predictions_kmeans_test, \n",
    "                    predictions_nn_test, \n",
    "                    predictions_surprize_test, \n",
    "                    true_ratings_test], axis=1, sort=False)"
   ]
  },
  {
   "cell_type": "code",
   "execution_count": null,
   "metadata": {},
   "outputs": [],
   "source": [
    "concat_test.head()"
   ]
  },
  {
   "cell_type": "markdown",
   "metadata": {},
   "source": [
    "## Augmentation"
   ]
  },
  {
   "cell_type": "code",
   "execution_count": null,
   "metadata": {},
   "outputs": [],
   "source": [
    "def augmentation(concat):\n",
    "    poly = PolynomialFeatures(3)\n",
    "    X = concat.loc[:,~(concat.columns == \"y\")]\n",
    "    print(\"Augmenting {} columns\".format(len(X.columns)))\n",
    "    if \"y\" in concat.columns:\n",
    "        y = concat.loc[:, \"y\"]\n",
    "    else:\n",
    "        y = None\n",
    "    X = pd.DataFrame(poly.fit_transform(X), columns=poly.get_feature_names(), index=concat.index)\n",
    "    return X, y"
   ]
  },
  {
   "cell_type": "code",
   "execution_count": null,
   "metadata": {},
   "outputs": [],
   "source": [
    "X_test, y_test = augmentation(concat_test)"
   ]
  },
  {
   "cell_type": "code",
   "execution_count": null,
   "metadata": {},
   "outputs": [],
   "source": [
    "rr = RidgeCV(alphas=np.linspace(100, 250, 60), store_cv_values=True).fit(X_test,y_test)\n",
    "predictor_coefficients = dict(zip(X_test.columns, rr.coef_))"
   ]
  },
  {
   "cell_type": "code",
   "execution_count": null,
   "metadata": {},
   "outputs": [],
   "source": [
    "plt.plot(np.linspace(100, 250, 60), rr.cv_values_.mean(axis=0));\n",
    "plt.xlabel(\"Ridge Lambda\")\n",
    "plt.ticklabel_format(useOffset=False)\n",
    "plt.ylabel(\"MSE\")\n",
    "plt.title(\"Optimization of hyperparameters for Ridge\")\n",
    "plt.grid()\n",
    "plt.savefig(\"figures/crossval_ridge.png\")\n",
    "plt.show()"
   ]
  },
  {
   "cell_type": "markdown",
   "metadata": {},
   "source": [
    "# Final training and predictions"
   ]
  },
  {
   "cell_type": "code",
   "execution_count": null,
   "metadata": {},
   "outputs": [],
   "source": [
    "predictions_surprize_final = Surprize.main(input_.copy(), format_.copy(), \n",
    "                                           cache_name=\"final\")\n",
    "\n",
    "predictions_als_final=ALS.main(input_.copy(), format_.copy(), cache_name=\"final\")\n",
    "\n",
    "k=6\n",
    "predictions_kmeans_final = Kmeans.main(input_.copy(), format_.copy(), k, rounded=False)\n",
    "\n",
    "predictions_nn_final = NN.main(input_.copy(), format_.copy())"
   ]
  },
  {
   "cell_type": "code",
   "execution_count": null,
   "metadata": {},
   "outputs": [],
   "source": [
    "concat_final = pd.concat([predictions_als_final, \n",
    "                    predictions_kmeans_final, \n",
    "                    predictions_nn_final, \n",
    "                    predictions_surprize_final], axis=1, sort=False)\n",
    "concat_aug_final, _ = augmentation(concat_final)\n",
    "del concat_final\n",
    "concat_aug_final[\"Prediction\"] = rr.intercept_\n",
    "for col in concat_aug_final:\n",
    "    if col != \"Prediction\":\n",
    "        concat_aug_final[\"Prediction\"] += concat_aug_final.loc[:, col]*predictor_coefficients[col]\n",
    "concat_aug_final[\"Prediction\"] = concat_aug_final[\"Prediction\"].apply(lambda x: int(np.clip(np.round(x),1,5)))\n",
    "concat_aug_final.index.name = \"Id\""
   ]
  },
  {
   "cell_type": "code",
   "execution_count": null,
   "metadata": {},
   "outputs": [],
   "source": [
    "concat_aug_final.to_csv(submission_path, columns=[\"Prediction\"])"
   ]
  }
 ],
 "metadata": {
  "kernelspec": {
   "display_name": "ml",
   "language": "python",
   "name": "ml"
  },
  "language_info": {
   "codemirror_mode": {
    "name": "ipython",
    "version": 3
   },
   "file_extension": ".py",
   "mimetype": "text/x-python",
   "name": "python",
   "nbconvert_exporter": "python",
   "pygments_lexer": "ipython3",
   "version": "3.7.3"
  }
 },
 "nbformat": 4,
 "nbformat_minor": 2
}
