{
 "cells": [
  {
   "cell_type": "markdown",
   "metadata": {},
   "source": [
    "# Imports"
   ]
  },
  {
   "cell_type": "code",
   "execution_count": null,
   "metadata": {},
   "outputs": [],
   "source": [
    "import numpy as np\n",
    "import pandas as pd\n",
    "from scipy import stats\n",
    "#importing the models\n",
    "import Kmeans\n",
    "import ALS\n",
    "import NN"
   ]
  },
  {
   "cell_type": "markdown",
   "metadata": {},
   "source": [
    "# Final Functions"
   ]
  },
  {
   "cell_type": "code",
   "execution_count": null,
   "metadata": {},
   "outputs": [],
   "source": [
    "def median_vote(predictions):\n",
    "    #computing the median\n",
    "    median=np.median(predictions,axis=0)\n",
    "    #making sure the result is an int (not the case if the amount of predictions is even)\n",
    "    bounded_median=np.floor(median)\n",
    "    return bounded_median"
   ]
  },
  {
   "cell_type": "code",
   "execution_count": null,
   "metadata": {},
   "outputs": [],
   "source": [
    "def mode_vote(predictions):\n",
    "    #computing the mode\n",
    "    return stats.mode(predictions,axis=0)[0]"
   ]
  },
  {
   "cell_type": "code",
   "execution_count": 69,
   "metadata": {},
   "outputs": [],
   "source": [
    "def vote(voting_f):\n",
    "    #useful constants\n",
    "    submission_path='submission.csv'\n",
    "    training_path = \"data/data_train.csv\"\n",
    "    format_path = \"data/sampleSubmission.csv\"\n",
    "    #computing the prediction of the ALS algorithm\n",
    "    predictions=ALS.main(training_path, format_path)\n",
    "    #computing multiple predictions of the kmeans algorithm\n",
    "    for k in [3,6,7]:\n",
    "        predictions=predictions.merge(Kmeans.main(training_path, format_path, k),on='Id')\n",
    "    #computing the prediction of the NN algorithm\n",
    "    predictions=predictions.merge(NN.main(training_path, format_path),on='Id')\n",
    "    #setting 'Id' as the index of the aggregation of predictions\n",
    "    predictions.set_index('Id', inplace=True)\n",
    "    #finding the best prediction through the voting function\n",
    "    print('Voting...')\n",
    "    predictions['Prediction']=median_vote(predictions.T)\n",
    "    #exporting the final prediction using the submission path\n",
    "    print('Exporting the final prediction...')\n",
    "    predictions[['Prediction']].to_csv(submission_path)\n",
    "    print('Done!')"
   ]
  },
  {
   "cell_type": "code",
   "execution_count": 70,
   "metadata": {},
   "outputs": [
    {
     "name": "stdout",
     "output_type": "stream",
     "text": [
      "Loading datasets\n",
      "Spliting train/test\n",
      "the shape of original ratings. (# of row, # of col): (10000, 1000)\n",
      "Splitting progression: 100.0%\n",
      "Total number of nonzero elements in original data:1,176,952\n",
      "Total number of nonzero elements in train data:1,065,327\n",
      "Total number of nonzero elements in test data:111,625\n",
      "Trying to retrieve cached optimal matrix factorization\n",
      "Successfully retrieved cached optimal matrix factorization\n",
      "Emitting predictions 1176952/1176952\n",
      "Kmeans for k= 7 :\n",
      "The current iteration of k-means is: 49, the average loss is 113.39338894580459.\n"
     ]
    },
    {
     "name": "stderr",
     "output_type": "stream",
     "text": [
      "C:\\Users\\ajlre\\Anaconda3\\lib\\site-packages\\tensorflow_core\\python\\framework\\indexed_slices.py:424: UserWarning: Converting sparse IndexedSlices to a dense Tensor of unknown shape. This may consume a large amount of memory.\n",
      "  \"Converting sparse IndexedSlices to a dense Tensor of unknown shape. \"\n"
     ]
    },
    {
     "name": "stdout",
     "output_type": "stream",
     "text": [
      "Train on 1059256 samples, validate on 117696 samples\n",
      "Epoch 1/10\n",
      "1059256/1059256 [==============================] - 20s 19us/step - loss: 1.0341 - val_loss: 1.0090\n",
      "Epoch 2/10\n",
      "1059256/1059256 [==============================] - 24s 23us/step - loss: 1.0067 - val_loss: 1.0029\n",
      "Epoch 3/10\n",
      "1059256/1059256 [==============================] - 24s 22us/step - loss: 0.9995 - val_loss: 1.0005\n",
      "Epoch 4/10\n",
      "1059256/1059256 [==============================] - 24s 22us/step - loss: 0.9948 - val_loss: 1.0022\n",
      "Epoch 5/10\n",
      "1059256/1059256 [==============================] - 24s 22us/step - loss: 0.9915 - val_loss: 0.9989\n",
      "Epoch 6/10\n",
      "1059256/1059256 [==============================] - 23s 22us/step - loss: 0.9888 - val_loss: 0.9977\n",
      "Epoch 7/10\n",
      "1059256/1059256 [==============================] - 24s 23us/step - loss: 0.9868 - val_loss: 1.0000\n",
      "Epoch 8/10\n",
      "1059256/1059256 [==============================] - 24s 22us/step - loss: 0.9847 - val_loss: 0.9992\n",
      "Epoch 9/10\n",
      "1059256/1059256 [==============================] - 24s 22us/step - loss: 0.9830 - val_loss: 0.9981\n",
      "Epoch 10/10\n",
      "1059256/1059256 [==============================] - 24s 22us/step - loss: 0.9816 - val_loss: 0.9964\n",
      "Generating predictions\n",
      "Voting...\n",
      "Exporting the final prediction...\n",
      "Done!\n"
     ]
    }
   ],
   "source": [
    "vote(median_vote)"
   ]
  },
  {
   "cell_type": "markdown",
   "metadata": {},
   "source": [
    "# Experimental Code"
   ]
  },
  {
   "cell_type": "code",
   "execution_count": null,
   "metadata": {},
   "outputs": [],
   "source": [
    "#useful constants\n",
    "submission_path='submission.csv'\n",
    "training_path = \"data/data_train.csv\"\n",
    "format_path = \"data/sampleSubmission.csv\""
   ]
  },
  {
   "cell_type": "code",
   "execution_count": null,
   "metadata": {},
   "outputs": [],
   "source": [
    "#computing the predictions of the ALS algorithm\n",
    "predictions_als=ALS.main(training_path, format_path).set_index(\"Id\")"
   ]
  },
  {
   "cell_type": "code",
   "execution_count": null,
   "metadata": {},
   "outputs": [],
   "source": [
    "#computing the best prediction of the kmeans algorithm\n",
    "k=7\n",
    "predictions_kmeans = Kmeans.main(training_path, format_path, k).set_index(\"Id\")"
   ]
  },
  {
   "cell_type": "code",
   "execution_count": null,
   "metadata": {},
   "outputs": [],
   "source": [
    "#computing the prediction of the NN algorithm\n",
    "predictions_nn = NN.main(training_path, format_path).set_index(\"Id\")"
   ]
  },
  {
   "cell_type": "code",
   "execution_count": null,
   "metadata": {},
   "outputs": [],
   "source": [
    "#finding the best prediction through the voting function\n",
    "concat = pd.merge(pd.merge(predictions_kmeans, predictions_als, left_index=True, right_index=True), predictions_nn, left_index=True, right_index=True)\n",
    "concat.columns = [\"Pred1\", \"Pred2\", \"Pred3\"]\n",
    "concat[\"Prediction\"] = concat.median(axis=1) #voting function\n",
    "concat.drop([\"Pred1\", \"Pred2\", \"Pred3\"], axis=1, inplace=True)"
   ]
  },
  {
   "cell_type": "code",
   "execution_count": null,
   "metadata": {},
   "outputs": [],
   "source": [
    "#exporting the final prediction using the submission path\n",
    "concat.to_csv(submission_path)"
   ]
  }
 ],
 "metadata": {
  "kernelspec": {
   "display_name": "Python 3",
   "language": "python",
   "name": "python3"
  },
  "language_info": {
   "codemirror_mode": {
    "name": "ipython",
    "version": 3
   },
   "file_extension": ".py",
   "mimetype": "text/x-python",
   "name": "python",
   "nbconvert_exporter": "python",
   "pygments_lexer": "ipython3",
   "version": "3.7.1"
  }
 },
 "nbformat": 4,
 "nbformat_minor": 2
}
