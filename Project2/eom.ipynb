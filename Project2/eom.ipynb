{
 "cells": [
  {
   "cell_type": "markdown",
   "metadata": {},
   "source": [
    "# Imports"
   ]
  },
  {
   "cell_type": "code",
   "execution_count": 22,
   "metadata": {},
   "outputs": [
    {
     "name": "stdout",
     "output_type": "stream",
     "text": [
      "The autoreload extension is already loaded. To reload it, use:\n",
      "  %reload_ext autoreload\n"
     ]
    }
   ],
   "source": [
    "%load_ext autoreload\n",
    "%autoreload 2\n",
    "import numpy as np\n",
    "import pandas as pd\n",
    "from scipy import stats\n",
    "import sklearn\n",
    "import matplotlib.pyplot as plt\n",
    "from sklearn.linear_model import RidgeCV\n",
    "from sklearn.preprocessing import PolynomialFeatures\n",
    "#importing the models\n",
    "import Kmeans\n",
    "import ALS\n",
    "import NN\n",
    "import Surprize\n",
    "import pickle as pkl"
   ]
  },
  {
   "cell_type": "markdown",
   "metadata": {},
   "source": [
    "# Find predictors weights"
   ]
  },
  {
   "cell_type": "code",
   "execution_count": 2,
   "metadata": {},
   "outputs": [],
   "source": [
    "#useful constants\n",
    "submission_path='submission.csv'\n",
    "training_path = \"data/data_train.csv\"\n",
    "format_path = \"data/sampleSubmission.csv\""
   ]
  },
  {
   "cell_type": "code",
   "execution_count": 3,
   "metadata": {},
   "outputs": [
    {
     "name": "stdout",
     "output_type": "stream",
     "text": [
      "Loading datasets\n"
     ]
    }
   ],
   "source": [
    "#Loading the data\n",
    "print(\"Loading datasets\")\n",
    "try:\n",
    "    input_ = pd.read_csv(training_path)\n",
    "    format_ = pd.read_csv(format_path)\n",
    "except FileNotFoundError:\n",
    "    print(\"Impossible to load training or format files, \"\n",
    "          \"please double check\")"
   ]
  },
  {
   "cell_type": "code",
   "execution_count": 4,
   "metadata": {},
   "outputs": [],
   "source": [
    "#Splitting the data\n",
    "np.random.seed(1)\n",
    "train, test =sklearn.model_selection.train_test_split(input_,test_size=0.1)"
   ]
  },
  {
   "cell_type": "code",
   "execution_count": 5,
   "metadata": {
    "scrolled": true
   },
   "outputs": [
    {
     "name": "stdout",
     "output_type": "stream",
     "text": [
      "Retrieving cached predictions\n",
      "Ensuring cached IDs match given IDs\n",
      "Indices match, continuing\n",
      "##### SVD ####\n",
      "Already computed SVD, skipping\n",
      "##### Baseline ####\n",
      "Already computed Baseline, skipping\n",
      "##### NMF ####\n",
      "Already computed NMF, skipping\n",
      "##### Slope One ####\n",
      "Already computed Slope One, skipping\n",
      "##### KNN Basic ####\n",
      "Already computed KNN Basic, skipping\n",
      "##### KNN Means ####\n",
      "Already computed KNN Means, skipping\n",
      "##### KNN Baseline ####\n",
      "Already computed KNN Baseline, skipping\n",
      "##### KNN Zscore ####\n",
      "Already computed KNN Zscore, skipping\n",
      "##### SVD ++ ####\n",
      "Already computed SVD ++, skipping\n",
      "##### Co Clustering ####\n",
      "Already computed Co Clustering, skipping\n",
      "DONE computing surprize\n",
      "Trying to retrieve cached optimal matrix factorization\n",
      "Successfully retrieved cached optimal matrix factorization\n",
      "Emitting predictions 117696/117696\n",
      "Kmeans for k= 6 :\n",
      "The current iteration of k-means is: 40, the average loss is 102.1739517117957..\n"
     ]
    },
    {
     "name": "stderr",
     "output_type": "stream",
     "text": [
      "C:\\Users\\ajlre\\Anaconda3\\lib\\site-packages\\tensorflow_core\\python\\framework\\indexed_slices.py:424: UserWarning: Converting sparse IndexedSlices to a dense Tensor of unknown shape. This may consume a large amount of memory.\n",
      "  \"Converting sparse IndexedSlices to a dense Tensor of unknown shape. \"\n"
     ]
    },
    {
     "name": "stdout",
     "output_type": "stream",
     "text": [
      "Epoch 1/10\n",
      "1059256/1059256 [==============================] - 31s 30us/step - loss: 1.0354\n",
      "Epoch 2/10\n",
      "1059256/1059256 [==============================] - 31s 29us/step - loss: 1.0083\n",
      "Epoch 3/10\n",
      "1059256/1059256 [==============================] - 32s 30us/step - loss: 1.0011\n",
      "Epoch 4/10\n",
      "1059256/1059256 [==============================] - 30s 29us/step - loss: 0.9961\n",
      "Epoch 5/10\n",
      "1059256/1059256 [==============================] - 31s 29us/step - loss: 0.9922\n",
      "Epoch 6/10\n",
      "1059256/1059256 [==============================] - 31s 29us/step - loss: 0.9896\n",
      "Epoch 7/10\n",
      "1059256/1059256 [==============================] - 31s 29us/step - loss: 0.9874\n",
      "Epoch 8/10\n",
      "1059256/1059256 [==============================] - 31s 29us/step - loss: 0.9856\n",
      "Epoch 9/10\n",
      "1059256/1059256 [==============================] - 30s 28us/step - loss: 0.9842\n",
      "Epoch 10/10\n",
      "1059256/1059256 [==============================] - 30s 28us/step - loss: 0.9827\n",
      "Generating predictions ...\n"
     ]
    }
   ],
   "source": [
    "#computing the predictions of the Surprize algorithm\n",
    "predictions_surprize_test = Surprize.main(train.copy(), test.copy(), \n",
    "                                          cache_name=\"test\")\n",
    "\n",
    "#computing the predictions of the ALS algorithm\n",
    "predictions_als_test=ALS.main(train.copy(), test.copy())\n",
    "\n",
    "#computing the best prediction of the kmeans algorithm\n",
    "k=6\n",
    "predictions_kmeans_test = Kmeans.main(train.copy(), test.copy(), k, rounded=False)\n",
    "\n",
    "#computing the prediction of the NN algorithm\n",
    "predictions_nn_test = NN.main(train.copy(), test.copy())"
   ]
  },
  {
   "cell_type": "code",
   "execution_count": 6,
   "metadata": {},
   "outputs": [],
   "source": [
    "#generating a predictions matrix (each column is the set of predictions of one model)\n",
    "true_ratings_test = test.copy()\n",
    "true_ratings_test.set_index(\"Id\", inplace=True)\n",
    "true_ratings_test.columns = [\"y\"]\n",
    "concat_test = pd.concat([predictions_als_test, \n",
    "                    predictions_kmeans_test, \n",
    "                    predictions_nn_test, \n",
    "                    predictions_surprize_test, \n",
    "                    true_ratings_test], axis=1, sort=False)\n",
    "concat_test.head()"
   ]
  },
  {
   "cell_type": "markdown",
   "metadata": {},
   "source": [
    "## Augmentation"
   ]
  },
  {
   "cell_type": "code",
   "execution_count": 8,
   "metadata": {},
   "outputs": [],
   "source": [
    "#augmentation function\n",
    "def augmentation(concat):\n",
    "    poly = PolynomialFeatures(3)\n",
    "    X = concat.loc[:,~(concat.columns == \"y\")]\n",
    "    print(\"Augmenting {} columns\".format(len(X.columns)))\n",
    "    if \"y\" in concat.columns:\n",
    "        y = concat.loc[:, \"y\"]\n",
    "    else:\n",
    "        y = None\n",
    "    X = pd.DataFrame(poly.fit_transform(X), columns=poly.get_feature_names(), index=concat.index)\n",
    "    return X, y"
   ]
  },
  {
   "cell_type": "code",
   "execution_count": 9,
   "metadata": {},
   "outputs": [
    {
     "name": "stdout",
     "output_type": "stream",
     "text": [
      "Augmenting 13 columns\n"
     ]
    }
   ],
   "source": [
    "#augmenting the test samples\n",
    "X_test, y_test = augmentation(concat_test)"
   ]
  },
  {
   "cell_type": "code",
   "execution_count": 10,
   "metadata": {},
   "outputs": [],
   "source": [
    "#cross-validating a ridge model using lambda between 100 and 250\n",
    "rr = RidgeCV(alphas=np.linspace(100, 250, 60), store_cv_values=True).fit(X_test,y_test)\n",
    "predictor_coefficients = dict(zip(X_test.columns, rrcoef_))"
   ]
  },
  {
   "cell_type": "code",
   "execution_count": 26,
   "metadata": {},
   "outputs": [
    {
     "data": {
      "text/plain": [
       "1.1945456804726544"
      ]
     },
     "execution_count": 26,
     "metadata": {},
     "output_type": "execute_result"
    }
   ],
   "source": [
    "rr.intercept_"
   ]
  },
  {
   "cell_type": "code",
   "execution_count": 25,
   "metadata": {},
   "outputs": [],
   "source": [
    "#saving the parameters of the ridge model (hyperparameters of EOM)\n",
    "with open('ridge_coefs.pkl','wb') as f:\n",
    "    pkl.dump(rr.coef_,f)"
   ]
  },
  {
   "cell_type": "code",
   "execution_count": 11,
   "metadata": {},
   "outputs": [
    {
     "data": {
      "image/png": "[encoded data removed]",
      "text/plain": [
       "<Figure size 432x288 with 1 Axes>"
      ]
     },
     "metadata": {
      "needs_background": "light"
     },
     "output_type": "display_data"
    }
   ],
   "source": [
    "#Plotting the results of the cross-validation\n",
    "plt.plot(np.linspace(100, 250, 60), rr.cv_values_.mean(axis=0));\n",
    "plt.xlabel(\"Ridge Lambda\")\n",
    "plt.ticklabel_format(useOffset=False)\n",
    "plt.ylabel(\"MSE\")\n",
    "plt.title(\"Optimization of hyperparameters for Ridge\")\n",
    "plt.grid()\n",
    "plt.savefig(\"figures/crossval_ridge.png\")\n",
    "plt.show()"
   ]
  },
  {
   "cell_type": "markdown",
   "metadata": {},
   "source": [
    "# Final training and predictions"
   ]
  },
  {
   "cell_type": "code",
   "execution_count": null,
   "metadata": {},
   "outputs": [],
   "source": [
    "#training the models using the full dataset\n",
    "predictions_surprize_final = Surprize.main(input_.copy(), format_.copy(), \n",
    "                                           cache_name=\"final\")\n",
    "\n",
    "predictions_als_final=ALS.main(input_.copy(), format_.copy(), cache_name=\"final\")\n",
    "\n",
    "k=6\n",
    "predictions_kmeans_final = Kmeans.main(input_.copy(), format_.copy(), k, rounded=False)\n",
    "\n",
    "predictions_nn_final = NN.main(input_.copy(), format_.copy())"
   ]
  },
  {
   "cell_type": "code",
   "execution_count": null,
   "metadata": {},
   "outputs": [],
   "source": [
    "#generating the final predictions using our trained ridge model and the predictions of all our models\n",
    "concat_final = pd.concat([predictions_als_final, \n",
    "                    predictions_kmeans_final, \n",
    "                    predictions_nn_final, \n",
    "                    predictions_surprize_final], axis=1, sort=False)\n",
    "concat_aug_final, _ = augmentation(concat_final)\n",
    "del concat_final\n",
    "concat_aug_final[\"Prediction\"] = rr.intercept_\n",
    "for col in concat_aug_final:\n",
    "    if col != \"Prediction\":\n",
    "        concat_aug_final[\"Prediction\"] += concat_aug_final.loc[:, col]*predictor_coefficients[col]\n",
    "concat_aug_final[\"Prediction\"] = concat_aug_final[\"Prediction\"].apply(lambda x: int(np.clip(np.round(x),1,5)))\n",
    "concat_aug_final.index.name = \"Id\""
   ]
  },
  {
   "cell_type": "code",
   "execution_count": null,
   "metadata": {},
   "outputs": [],
   "source": [
    "#saving our final prediction\n",
    "concat_aug_final.to_csv(submission_path, columns=[\"Prediction\"])"
   ]
  }
 ],
 "metadata": {
  "kernelspec": {
   "display_name": "Python 3",
   "language": "python",
   "name": "python3"
  },
  "language_info": {
   "codemirror_mode": {
    "name": "ipython",
    "version": 3
   },
   "file_extension": ".py",
   "mimetype": "text/x-python",
   "name": "python",
   "nbconvert_exporter": "python",
   "pygments_lexer": "ipython3",
   "version": "3.7.1"
  }
 },
 "nbformat": 4,
 "nbformat_minor": 2
}
