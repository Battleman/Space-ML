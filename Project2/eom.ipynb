{
 "cells": [
  {
   "cell_type": "markdown",
   "metadata": {},
   "source": [
    "# Imports"
   ]
  },
  {
   "cell_type": "code",
   "execution_count": 27,
   "metadata": {},
   "outputs": [],
   "source": [
    "import numpy as np\n",
    "import pandas as pd\n",
    "from scipy import stats\n",
    "#importing the models\n",
    "import Kmeans\n",
    "import ALS\n",
    "import NN"
   ]
  },
  {
   "cell_type": "markdown",
   "metadata": {},
   "source": [
    "# Final Functions"
   ]
  },
  {
   "cell_type": "code",
   "execution_count": 28,
   "metadata": {},
   "outputs": [],
   "source": [
    "def median_vote(predictions):\n",
    "    #computing the median\n",
    "    median=np.median(predictions,axis=0)\n",
    "    #making sure the result is an int (not the case if the amount of predictions is even)\n",
    "    bounded_median=np.floor(median)\n",
    "    return bounded_median"
   ]
  },
  {
   "cell_type": "code",
   "execution_count": 29,
   "metadata": {},
   "outputs": [],
   "source": [
    "def mode_vote(predictions):\n",
    "    #computing the mode\n",
    "    return stats.mode(predictions,axis=0)[0]"
   ]
  },
  {
   "cell_type": "code",
   "execution_count": 79,
   "metadata": {},
   "outputs": [],
   "source": [
    "def maj_vote(predictions):\n",
    "    top=predictions.iloc[0][:,np.newaxis]\n",
    "    mode=stats.mode(predictions,axis=0)\n",
    "    freq=mode[1].T/predictions.shape[0]\n",
    "    return np.where(freq<0.5,top,mode[0].T)"
   ]
  },
  {
   "cell_type": "code",
   "execution_count": 81,
   "metadata": {},
   "outputs": [],
   "source": [
    "def vote(voting_f):\n",
    "    #useful constants\n",
    "    submission_path='submission.csv'\n",
    "    training_path = \"data/data_train.csv\"\n",
    "    format_path = \"data/sampleSubmission.csv\"\n",
    "    #computing the prediction of the ALS algorithm\n",
    "    predictions=ALS.main(training_path, format_path)\n",
    "    #computing multiple predictions of the kmeans algorithm\n",
    "    for k in [5,6,7]:\n",
    "        predictions=predictions.merge(Kmeans.main(training_path, format_path, k),on='Id')\n",
    "    #computing the prediction of the NN algorithm\n",
    "    predictions=predictions.merge(NN.main(training_path, format_path),on='Id')\n",
    "    #setting 'Id' as the index of the aggregation of predictions\n",
    "    predictions.set_index('Id', inplace=True)\n",
    "    #finding the best prediction through the voting function\n",
    "    print('Voting...')\n",
    "    predictions['Prediction']=voting_f(predictions.T)\n",
    "    #exporting the final prediction using the submission path\n",
    "    print('Exporting the final prediction...')\n",
    "    predictions[['Prediction']].to_csv(submission_path)\n",
    "    print('Done!')"
   ]
  },
  {
   "cell_type": "code",
   "execution_count": 82,
   "metadata": {},
   "outputs": [
    {
     "name": "stdout",
     "output_type": "stream",
     "text": [
      "Loading datasets\n",
      "Spliting train/test\n",
      "the shape of original ratings. (# of row, # of col): (10000, 1000)\n",
      "Splitting progression: 100.0%\n",
      "Total number of nonzero elements in original data:1,176,952\n",
      "Total number of nonzero elements in train data:1,065,327\n",
      "Total number of nonzero elements in test data:111,625\n",
      "Trying to retrieve cached optimal matrix factorization\n",
      "Successfully retrieved cached optimal matrix factorization\n",
      "Emitting predictions 1176952/1176952\n",
      "Kmeans for k= 5 :\n",
      "The current iteration of k-means is: 42, the average loss is 114.58407192869866.\n",
      "Kmeans for k= 6 :\n",
      "The current iteration of k-means is: 24, the average loss is 113.83491094376913.\n",
      "Kmeans for k= 7 :\n",
      "The current iteration of k-means is: 49, the average loss is 113.39338894580459.\n"
     ]
    },
    {
     "name": "stderr",
     "output_type": "stream",
     "text": [
      "C:\\Users\\ajlre\\Anaconda3\\lib\\site-packages\\tensorflow_core\\python\\framework\\indexed_slices.py:424: UserWarning: Converting sparse IndexedSlices to a dense Tensor of unknown shape. This may consume a large amount of memory.\n",
      "  \"Converting sparse IndexedSlices to a dense Tensor of unknown shape. \"\n"
     ]
    },
    {
     "name": "stdout",
     "output_type": "stream",
     "text": [
      "Train on 1059256 samples, validate on 117696 samples\n",
      "Epoch 1/10\n",
      "1059256/1059256 [==============================] - 19s 17us/step - loss: 1.0379 - val_loss: 1.0089\n",
      "Epoch 2/10\n",
      "1059256/1059256 [==============================] - 17s 17us/step - loss: 1.0058 - val_loss: 1.0029\n",
      "Epoch 3/10\n",
      "1059256/1059256 [==============================] - 17s 16us/step - loss: 0.9991 - val_loss: 1.0001\n",
      "Epoch 4/10\n",
      "1059256/1059256 [==============================] - 17s 16us/step - loss: 0.9947 - val_loss: 1.0035\n",
      "Epoch 5/10\n",
      "1059256/1059256 [==============================] - 17s 16us/step - loss: 0.9914 - val_loss: 0.9990\n",
      "Epoch 6/10\n",
      "1059256/1059256 [==============================] - 17s 16us/step - loss: 0.9891 - val_loss: 0.9981\n",
      "Epoch 7/10\n",
      "1059256/1059256 [==============================] - 17s 16us/step - loss: 0.9871 - val_loss: 1.0007\n",
      "Epoch 8/10\n",
      "1059256/1059256 [==============================] - 17s 16us/step - loss: 0.9852 - val_loss: 1.0003\n",
      "Epoch 9/10\n",
      "1059256/1059256 [==============================] - 18s 17us/step - loss: 0.9836 - val_loss: 0.9985\n",
      "Epoch 10/10\n",
      "1059256/1059256 [==============================] - 18s 17us/step - loss: 0.9821 - val_loss: 0.9965\n",
      "Generating predictions\n",
      "Voting...\n",
      "Exporting the final prediction...\n",
      "Done!\n"
     ]
    }
   ],
   "source": [
    "vote(maj_vote)"
   ]
  },
  {
   "cell_type": "markdown",
   "metadata": {},
   "source": [
    "# Experimental Code"
   ]
  },
  {
   "cell_type": "code",
   "execution_count": 33,
   "metadata": {},
   "outputs": [],
   "source": [
    "#useful constants\n",
    "submission_path='submission.csv'\n",
    "training_path = \"data/data_train.csv\"\n",
    "format_path = \"data/sampleSubmission.csv\""
   ]
  },
  {
   "cell_type": "code",
   "execution_count": 34,
   "metadata": {},
   "outputs": [
    {
     "name": "stdout",
     "output_type": "stream",
     "text": [
      "Loading datasets\n",
      "Spliting train/test\n",
      "the shape of original ratings. (# of row, # of col): (10000, 1000)\n",
      "Splitting progression: 100.0%\n",
      "Total number of nonzero elements in original data:1,176,952\n",
      "Total number of nonzero elements in train data:1,065,327\n",
      "Total number of nonzero elements in test data:111,625\n",
      "Trying to retrieve cached optimal matrix factorization\n",
      "Successfully retrieved cached optimal matrix factorization\n",
      "Emitting predictions 1176952/1176952\n"
     ]
    }
   ],
   "source": [
    "#computing the predictions of the ALS algorithm\n",
    "predictions_als=ALS.main(training_path, format_path).set_index(\"Id\")"
   ]
  },
  {
   "cell_type": "code",
   "execution_count": 35,
   "metadata": {},
   "outputs": [
    {
     "name": "stdout",
     "output_type": "stream",
     "text": [
      "Kmeans for k= 5 :\n",
      "The current iteration of k-means is: 42, the average loss is 114.58407192869866.\n"
     ]
    }
   ],
   "source": [
    "#computing the best prediction of the kmeans algorithm\n",
    "k=5\n",
    "predictions_kmeans = Kmeans.main(training_path, format_path, k).set_index(\"Id\")"
   ]
  },
  {
   "cell_type": "code",
   "execution_count": 36,
   "metadata": {},
   "outputs": [
    {
     "name": "stderr",
     "output_type": "stream",
     "text": [
      "C:\\Users\\ajlre\\Anaconda3\\lib\\site-packages\\tensorflow_core\\python\\framework\\indexed_slices.py:424: UserWarning: Converting sparse IndexedSlices to a dense Tensor of unknown shape. This may consume a large amount of memory.\n",
      "  \"Converting sparse IndexedSlices to a dense Tensor of unknown shape. \"\n"
     ]
    },
    {
     "name": "stdout",
     "output_type": "stream",
     "text": [
      "Train on 1059256 samples, validate on 117696 samples\n",
      "Epoch 1/10\n",
      "1059256/1059256 [==============================] - 19s 18us/step - loss: 1.0360 - val_loss: 1.0046\n",
      "Epoch 2/10\n",
      "1059256/1059256 [==============================] - 17s 16us/step - loss: 1.0017 - val_loss: 1.0035\n",
      "Epoch 3/10\n",
      "1059256/1059256 [==============================] - 17s 16us/step - loss: 0.9947 - val_loss: 0.9971\n",
      "Epoch 4/10\n",
      "1059256/1059256 [==============================] - 18s 17us/step - loss: 0.9910 - val_loss: 1.0002\n",
      "Epoch 5/10\n",
      "1059256/1059256 [==============================] - 17s 16us/step - loss: 0.9883 - val_loss: 0.9960\n",
      "Epoch 6/10\n",
      "1059256/1059256 [==============================] - 18s 17us/step - loss: 0.9861 - val_loss: 0.9951\n",
      "Epoch 7/10\n",
      "1059256/1059256 [==============================] - 17s 16us/step - loss: 0.9845 - val_loss: 0.9955\n",
      "Epoch 8/10\n",
      "1059256/1059256 [==============================] - 18s 17us/step - loss: 0.9829 - val_loss: 0.9968\n",
      "Epoch 9/10\n",
      "1059256/1059256 [==============================] - 18s 17us/step - loss: 0.9813 - val_loss: 0.9958\n",
      "Epoch 10/10\n",
      "1059256/1059256 [==============================] - 19s 18us/step - loss: 0.9803 - val_loss: 0.9986\n",
      "Generating predictions\n"
     ]
    }
   ],
   "source": [
    "#computing the prediction of the NN algorithm\n",
    "predictions_nn = NN.main(training_path, format_path).set_index(\"Id\")"
   ]
  },
  {
   "cell_type": "code",
   "execution_count": 80,
   "metadata": {},
   "outputs": [
    {
     "data": {
      "text/html": [
       "<div>\n",
       "<style scoped>\n",
       "    .dataframe tbody tr th:only-of-type {\n",
       "        vertical-align: middle;\n",
       "    }\n",
       "\n",
       "    .dataframe tbody tr th {\n",
       "        vertical-align: top;\n",
       "    }\n",
       "\n",
       "    .dataframe thead th {\n",
       "        text-align: right;\n",
       "    }\n",
       "</style>\n",
       "<table border=\"1\" class=\"dataframe\">\n",
       "  <thead>\n",
       "    <tr style=\"text-align: right;\">\n",
       "      <th></th>\n",
       "      <th>Prediction</th>\n",
       "    </tr>\n",
       "    <tr>\n",
       "      <th>Id</th>\n",
       "      <th></th>\n",
       "    </tr>\n",
       "  </thead>\n",
       "  <tbody>\n",
       "    <tr>\n",
       "      <th>r1000_c1</th>\n",
       "      <td>4.0</td>\n",
       "    </tr>\n",
       "    <tr>\n",
       "      <th>r1141_c1</th>\n",
       "      <td>4.0</td>\n",
       "    </tr>\n",
       "    <tr>\n",
       "      <th>r1146_c1</th>\n",
       "      <td>4.0</td>\n",
       "    </tr>\n",
       "    <tr>\n",
       "      <th>r1157_c1</th>\n",
       "      <td>3.0</td>\n",
       "    </tr>\n",
       "    <tr>\n",
       "      <th>r1184_c1</th>\n",
       "      <td>4.0</td>\n",
       "    </tr>\n",
       "    <tr>\n",
       "      <th>...</th>\n",
       "      <td>...</td>\n",
       "    </tr>\n",
       "    <tr>\n",
       "      <th>r9949_c999</th>\n",
       "      <td>4.0</td>\n",
       "    </tr>\n",
       "    <tr>\n",
       "      <th>r9961_c999</th>\n",
       "      <td>3.0</td>\n",
       "    </tr>\n",
       "    <tr>\n",
       "      <th>r9965_c999</th>\n",
       "      <td>3.0</td>\n",
       "    </tr>\n",
       "    <tr>\n",
       "      <th>r9988_c999</th>\n",
       "      <td>4.0</td>\n",
       "    </tr>\n",
       "    <tr>\n",
       "      <th>r9997_c999</th>\n",
       "      <td>3.0</td>\n",
       "    </tr>\n",
       "  </tbody>\n",
       "</table>\n",
       "<p>1176952 rows × 1 columns</p>\n",
       "</div>"
      ],
      "text/plain": [
       "            Prediction\n",
       "Id                    \n",
       "r1000_c1           4.0\n",
       "r1141_c1           4.0\n",
       "r1146_c1           4.0\n",
       "r1157_c1           3.0\n",
       "r1184_c1           4.0\n",
       "...                ...\n",
       "r9949_c999         4.0\n",
       "r9961_c999         3.0\n",
       "r9965_c999         3.0\n",
       "r9988_c999         4.0\n",
       "r9997_c999         3.0\n",
       "\n",
       "[1176952 rows x 1 columns]"
      ]
     },
     "execution_count": 80,
     "metadata": {},
     "output_type": "execute_result"
    }
   ],
   "source": [
    "#finding the best prediction through the voting function\n",
    "concat = pd.merge(pd.merge(predictions_kmeans, predictions_als, left_index=True, right_index=True), predictions_nn, left_index=True, right_index=True)\n",
    "concat.columns = [\"Pred1\", \"Pred2\", \"Pred3\"]\n",
    "#finding the best prediction through the voting function\n",
    "voting_f=maj_vote\n",
    "concat['Prediction']=voting_f(concat.T)\n",
    "concat.drop([\"Pred1\", \"Pred2\", \"Pred3\"], axis=1, inplace=True)\n",
    "concat"
   ]
  },
  {
   "cell_type": "code",
   "execution_count": null,
   "metadata": {},
   "outputs": [],
   "source": [
    "#exporting the final prediction using the submission path\n",
    "concat.to_csv(submission_path)"
   ]
  }
 ],
 "metadata": {
  "kernelspec": {
   "display_name": "Python 3",
   "language": "python",
   "name": "python3"
  },
  "language_info": {
   "codemirror_mode": {
    "name": "ipython",
    "version": 3
   },
   "file_extension": ".py",
   "mimetype": "text/x-python",
   "name": "python",
   "nbconvert_exporter": "python",
   "pygments_lexer": "ipython3",
   "version": "3.7.1"
  }
 },
 "nbformat": 4,
 "nbformat_minor": 2
}
