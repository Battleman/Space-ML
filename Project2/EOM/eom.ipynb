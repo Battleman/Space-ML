{
 "cells": [
  {
   "cell_type": "code",
   "execution_count": null,
   "metadata": {},
   "outputs": [],
   "source": [
    "import numpy as np\n",
    "import pandas as pd\n",
    "from scipy import stats\n",
    "#importing the models\n",
    "import sys\n",
    "sys.path.insert(0,'../Kmeans')\n",
    "import _init_ as kmi"
   ]
  },
  {
   "cell_type": "code",
   "execution_count": null,
   "metadata": {},
   "outputs": [],
   "source": [
    "def median_vote(predictions):\n",
    "    #computing the median\n",
    "    median=np.median(predictions,axis=0)\n",
    "    #making sure the result is an int (not the case if the amount of predictions is even)\n",
    "    bounded_median=np.floor(median)\n",
    "    return bounded_median"
   ]
  },
  {
   "cell_type": "code",
   "execution_count": null,
   "metadata": {},
   "outputs": [],
   "source": [
    "def mode_vote(predictions):\n",
    "    #computing the mode\n",
    "    return stats.mode(predictions,axis=0)[0]"
   ]
  },
  {
   "cell_type": "code",
   "execution_count": null,
   "metadata": {},
   "outputs": [],
   "source": [
    "def vote(voting_f):\n",
    "    #useful constants\n",
    "    submission_path='submission.csv'\n",
    "    #Initializing 'predictions' and 'labels' using a first prediction\n",
    "    predictions=kmi.main(2).to_numpy()\n",
    "    labels=predictions[:,0]\n",
    "    predictions=predictions[:,1]\n",
    "    #computing multiple predictions of the kmeans algorithm\n",
    "    for k in [3,6,7]:\n",
    "        predictions=np.vstack((predictions,kmi.main(k).to_numpy()[:,1]))\n",
    "        print(predictions.shape)\n",
    "    #finding the best prediction though the voting function\n",
    "    pred=pd.DataFrame(np.vstack((labels,voting_f(predictions))).T)\n",
    "    pred=pred.rename(columns={0: 'Id', 1:'Prediction'})\n",
    "    #exporting the final prediction using the submission path\n",
    "    pred.to_csv(submission_path)"
   ]
  },
  {
   "cell_type": "code",
   "execution_count": null,
   "metadata": {},
   "outputs": [],
   "source": [
    "vote(mode_vote)"
   ]
  },
  {
   "cell_type": "code",
   "execution_count": null,
   "metadata": {},
   "outputs": [],
   "source": []
  }
 ],
 "metadata": {
  "kernelspec": {
   "display_name": "Python 3",
   "language": "python",
   "name": "python3"
  },
  "language_info": {
   "codemirror_mode": {
    "name": "ipython",
    "version": 3
   },
   "file_extension": ".py",
   "mimetype": "text/x-python",
   "name": "python",
   "nbconvert_exporter": "python",
   "pygments_lexer": "ipython3",
   "version": "3.7.3"
  }
 },
 "nbformat": 4,
 "nbformat_minor": 2
}
